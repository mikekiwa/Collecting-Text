{
 "cells": [
  {
   "cell_type": "code",
   "execution_count": 1,
   "metadata": {
    "collapsed": true
   },
   "outputs": [],
   "source": [
    "import requests\n",
    "from bs4 import BeautifulSoup"
   ]
  },
  {
   "cell_type": "code",
   "execution_count": 155,
   "metadata": {
    "collapsed": true
   },
   "outputs": [],
   "source": [
    "url = 'https://raw.githubusercontent.com/nealcaren/Collecting-Text/master/markdown/scrape_list.html'"
   ]
  },
  {
   "cell_type": "code",
   "execution_count": 156,
   "metadata": {
    "collapsed": true
   },
   "outputs": [],
   "source": [
    "html = requests.get(url).text"
   ]
  },
  {
   "cell_type": "code",
   "execution_count": 157,
   "metadata": {
    "collapsed": false
   },
   "outputs": [
    {
     "data": {
      "text/plain": [
       "u'<!DOCTYPE html>\\n<html>\\n\\n<head>\\n\\n<meta charset=\"utf-8\">\\n<title>scrape_list</title>\\n\\n\\n<style type=\"text/css\">\\nbody {\\n  font-family: Helvetica, arial, sans-serif;\\n  font-size: 14px;\\n  line-height: 1.6;\\n  padding-top: 10px;\\n  padding-bottom: 10px;\\n  background-color: white;\\n  padding: 30px; }\\n\\nbody > *:first-child {\\n  margin-top: 0 !important; }\\nbody > *:last-child {\\n  margin-bottom: 0 !important; }\\n\\na {\\n  color: #4183C4; }\\na.absent {\\n  color: #cc0000; }\\na.anchor {\\n  display: block;\\n  padding-left: 30px;\\n  margin-left: -30px;\\n  cursor: pointer;\\n  position: absolute;\\n  top: 0;\\n  left: 0;\\n  bottom: 0; }\\n\\nh1, h2, h3, h4, h5, h6 {\\n  margin: 20px 0 10px;\\n  padding: 0;\\n  font-weight: bold;\\n  -webkit-font-smoothing: antialiased;\\n  cursor: text;\\n  position: relative; }\\n\\nh1:hover a.anchor, h2:hover a.anchor, h3:hover a.anchor, h4:hover a.anchor, h5:hover a.anchor, h6:hover a.anchor {\\n  background: url(data:image/png;base64,iVBORw0KGgoAAAANSUhEUgAAABAAAAAQCAYAAAAf8/9hAAAAGXRFWHRTb2Z0d2FyZQBBZG9iZSBJbWFnZVJlYWR5ccllPAAAA09pVFh0WE1MOmNvbS5hZG9iZS54bXAAAAAAADw/eHBhY2tldCBiZWdpbj0i77u/IiBpZD0iVzVNME1wQ2VoaUh6cmVTek5UY3prYzlkIj8+IDx4OnhtcG1ldGEgeG1sbnM6eD0iYWRvYmU6bnM6bWV0YS8iIHg6eG1wdGs9IkFkb2JlIFhNUCBDb3JlIDUuMy1jMDExIDY2LjE0NTY2MSwgMjAxMi8wMi8wNi0xNDo1NjoyNyAgICAgICAgIj4gPHJkZjpSREYgeG1sbnM6cmRmPSJodHRwOi8vd3d3LnczLm9yZy8xOTk5LzAyLzIyLXJkZi1zeW50YXgtbnMjIj4gPHJkZjpEZXNjcmlwdGlvbiByZGY6YWJvdXQ9IiIgeG1sbnM6eG1wPSJodHRwOi8vbnMuYWRvYmUuY29tL3hhcC8xLjAvIiB4bWxuczp4bXBNTT0iaHR0cDovL25zLmFkb2JlLmNvbS94YXAvMS4wL21tLyIgeG1sbnM6c3RSZWY9Imh0dHA6Ly9ucy5hZG9iZS5jb20veGFwLzEuMC9zVHlwZS9SZXNvdXJjZVJlZiMiIHhtcDpDcmVhdG9yVG9vbD0iQWRvYmUgUGhvdG9zaG9wIENTNiAoMTMuMCAyMDEyMDMwNS5tLjQxNSAyMDEyLzAzLzA1OjIxOjAwOjAwKSAgKE1hY2ludG9zaCkiIHhtcE1NOkluc3RhbmNlSUQ9InhtcC5paWQ6OUM2NjlDQjI4ODBGMTFFMTg1ODlEODNERDJBRjUwQTQiIHhtcE1NOkRvY3VtZW50SUQ9InhtcC5kaWQ6OUM2NjlDQjM4ODBGMTFFMTg1ODlEODNERDJBRjUwQTQiPiA8eG1wTU06RGVyaXZlZEZyb20gc3RSZWY6aW5zdGFuY2VJRD0ieG1wLmlpZDo5QzY2OUNCMDg4MEYxMUUxODU4OUQ4M0REMkFGNTBBNCIgc3RSZWY6ZG9jdW1lbnRJRD0ieG1wLmRpZDo5QzY2OUNCMTg4MEYxMUUxODU4OUQ4M0REMkFGNTBBNCIvPiA8L3JkZjpEZXNjcmlwdGlvbj4gPC9yZGY6UkRGPiA8L3g6eG1wbWV0YT4gPD94cGFja2V0IGVuZD0iciI/PsQhXeAAAABfSURBVHjaYvz//z8DJYCRUgMYQAbAMBQIAvEqkBQWXI6sHqwHiwG70TTBxGaiWwjCTGgOUgJiF1J8wMRAIUA34B4Q76HUBelAfJYSA0CuMIEaRP8wGIkGMA54bgQIMACAmkXJi0hKJQAAAABJRU5ErkJggg==) no-repeat 10px center;\\n  text-decoration: none; }\\n\\nh1 tt, h1 code {\\n  font-size: inherit; }\\n\\nh2 tt, h2 code {\\n  font-size: inherit; }\\n\\nh3 tt, h3 code {\\n  font-size: inherit; }\\n\\nh4 tt, h4 code {\\n  font-size: inherit; }\\n\\nh5 tt, h5 code {\\n  font-size: inherit; }\\n\\nh6 tt, h6 code {\\n  font-size: inherit; }\\n\\nh1 {\\n  font-size: 28px;\\n  color: black; }\\n\\nh2 {\\n  font-size: 24px;\\n  border-bottom: 1px solid #cccccc;\\n  color: black; }\\n\\nh3 {\\n  font-size: 18px; }\\n\\nh4 {\\n  font-size: 16px; }\\n\\nh5 {\\n  font-size: 14px; }\\n\\nh6 {\\n  color: #777777;\\n  font-size: 14px; }\\n\\np, blockquote, ul, ol, dl, li, table, pre {\\n  margin: 15px 0; }\\n\\nhr {\\n  background: transparent url(data:image/png;base64,iVBORw0KGgoAAAANSUhEUgAAAAYAAAAECAYAAACtBE5DAAAAGXRFWHRTb2Z0d2FyZQBBZG9iZSBJbWFnZVJlYWR5ccllPAAAAyJpVFh0WE1MOmNvbS5hZG9iZS54bXAAAAAAADw/eHBhY2tldCBiZWdpbj0i77u/IiBpZD0iVzVNME1wQ2VoaUh6cmVTek5UY3prYzlkIj8+IDx4OnhtcG1ldGEgeG1sbnM6eD0iYWRvYmU6bnM6bWV0YS8iIHg6eG1wdGs9IkFkb2JlIFhNUCBDb3JlIDUuMC1jMDYwIDYxLjEzNDc3NywgMjAxMC8wMi8xMi0xNzozMjowMCAgICAgICAgIj4gPHJkZjpSREYgeG1sbnM6cmRmPSJodHRwOi8vd3d3LnczLm9yZy8xOTk5LzAyLzIyLXJkZi1zeW50YXgtbnMjIj4gPHJkZjpEZXNjcmlwdGlvbiByZGY6YWJvdXQ9IiIgeG1sbnM6eG1wPSJodHRwOi8vbnMuYWRvYmUuY29tL3hhcC8xLjAvIiB4bWxuczp4bXBNTT0iaHR0cDovL25zLmFkb2JlLmNvbS94YXAvMS4wL21tLyIgeG1sbnM6c3RSZWY9Imh0dHA6Ly9ucy5hZG9iZS5jb20veGFwLzEuMC9zVHlwZS9SZXNvdXJjZVJlZiMiIHhtcDpDcmVhdG9yVG9vbD0iQWRvYmUgUGhvdG9zaG9wIENTNSBNYWNpbnRvc2giIHhtcE1NOkluc3RhbmNlSUQ9InhtcC5paWQ6OENDRjNBN0E2NTZBMTFFMEI3QjRBODM4NzJDMjlGNDgiIHhtcE1NOkRvY3VtZW50SUQ9InhtcC5kaWQ6OENDRjNBN0I2NTZBMTFFMEI3QjRBODM4NzJDMjlGNDgiPiA8eG1wTU06RGVyaXZlZEZyb20gc3RSZWY6aW5zdGFuY2VJRD0ieG1wLmlpZDo4Q0NGM0E3ODY1NkExMUUwQjdCNEE4Mzg3MkMyOUY0OCIgc3RSZWY6ZG9jdW1lbnRJRD0ieG1wLmRpZDo4Q0NGM0E3OTY1NkExMUUwQjdCNEE4Mzg3MkMyOUY0OCIvPiA8L3JkZjpEZXNjcmlwdGlvbj4gPC9yZGY6UkRGPiA8L3g6eG1wbWV0YT4gPD94cGFja2V0IGVuZD0iciI/PqqezsUAAAAfSURBVHjaYmRABcYwBiM2QSA4y4hNEKYDQxAEAAIMAHNGAzhkPOlYAAAAAElFTkSuQmCC) repeat-x 0 0;\\n  border: 0 none;\\n  color: #cccccc;\\n  height: 4px;\\n  padding: 0;\\n}\\n\\nbody > h2:first-child {\\n  margin-top: 0;\\n  padding-top: 0; }\\nbody > h1:first-child {\\n  margin-top: 0;\\n  padding-top: 0; }\\n  body > h1:first-child + h2 {\\n    margin-top: 0;\\n    padding-top: 0; }\\nbody > h3:first-child, body > h4:first-child, body > h5:first-child, body > h6:first-child {\\n  margin-top: 0;\\n  padding-top: 0; }\\n\\na:first-child h1, a:first-child h2, a:first-child h3, a:first-child h4, a:first-child h5, a:first-child h6 {\\n  margin-top: 0;\\n  padding-top: 0; }\\n\\nh1 p, h2 p, h3 p, h4 p, h5 p, h6 p {\\n  margin-top: 0; }\\n\\nli p.first {\\n  display: inline-block; }\\nli {\\n  margin: 0; }\\nul, ol {\\n  padding-left: 30px; }\\n\\nul :first-child, ol :first-child {\\n  margin-top: 0; }\\n\\ndl {\\n  padding: 0; }\\n  dl dt {\\n    font-size: 14px;\\n    font-weight: bold;\\n    font-style: italic;\\n    padding: 0;\\n    margin: 15px 0 5px; }\\n    dl dt:first-child {\\n      padding: 0; }\\n    dl dt > :first-child {\\n      margin-top: 0; }\\n    dl dt > :last-child {\\n      margin-bottom: 0; }\\n  dl dd {\\n    margin: 0 0 15px;\\n    padding: 0 15px; }\\n    dl dd > :first-child {\\n      margin-top: 0; }\\n    dl dd > :last-child {\\n      margin-bottom: 0; }\\n\\nblockquote {\\n  border-left: 4px solid #dddddd;\\n  padding: 0 15px;\\n  color: #777777; }\\n  blockquote > :first-child {\\n    margin-top: 0; }\\n  blockquote > :last-child {\\n    margin-bottom: 0; }\\n\\ntable {\\n  padding: 0;border-collapse: collapse; }\\n  table tr {\\n    border-top: 1px solid #cccccc;\\n    background-color: white;\\n    margin: 0;\\n    padding: 0; }\\n    table tr:nth-child(2n) {\\n      background-color: #f8f8f8; }\\n    table tr th {\\n      font-weight: bold;\\n      border: 1px solid #cccccc;\\n      margin: 0;\\n      padding: 6px 13px; }\\n    table tr td {\\n      border: 1px solid #cccccc;\\n      margin: 0;\\n      padding: 6px 13px; }\\n    table tr th :first-child, table tr td :first-child {\\n      margin-top: 0; }\\n    table tr th :last-child, table tr td :last-child {\\n      margin-bottom: 0; }\\n\\nimg {\\n  max-width: 100%; }\\n\\nspan.frame {\\n  display: block;\\n  overflow: hidden; }\\n  span.frame > span {\\n    border: 1px solid #dddddd;\\n    display: block;\\n    float: left;\\n    overflow: hidden;\\n    margin: 13px 0 0;\\n    padding: 7px;\\n    width: auto; }\\n  span.frame span img {\\n    display: block;\\n    float: left; }\\n  span.frame span span {\\n    clear: both;\\n    color: #333333;\\n    display: block;\\n    padding: 5px 0 0; }\\nspan.align-center {\\n  display: block;\\n  overflow: hidden;\\n  clear: both; }\\n  span.align-center > span {\\n    display: block;\\n    overflow: hidden;\\n    margin: 13px auto 0;\\n    text-align: center; }\\n  span.align-center span img {\\n    margin: 0 auto;\\n    text-align: center; }\\nspan.align-right {\\n  display: block;\\n  overflow: hidden;\\n  clear: both; }\\n  span.align-right > span {\\n    display: block;\\n    overflow: hidden;\\n    margin: 13px 0 0;\\n    text-align: right; }\\n  span.align-right span img {\\n    margin: 0;\\n    text-align: right; }\\nspan.float-left {\\n  display: block;\\n  margin-right: 13px;\\n  overflow: hidden;\\n  float: left; }\\n  span.float-left span {\\n    margin: 13px 0 0; }\\nspan.float-right {\\n  display: block;\\n  margin-left: 13px;\\n  overflow: hidden;\\n  float: right; }\\n  span.float-right > span {\\n    display: block;\\n    overflow: hidden;\\n    margin: 13px auto 0;\\n    text-align: right; }\\n\\ncode, tt {\\n  margin: 0 2px;\\n  padding: 0 5px;\\n  white-space: nowrap;\\n  border: 1px solid #eaeaea;\\n  background-color: #f8f8f8;\\n  border-radius: 3px; }\\n\\npre code {\\n  margin: 0;\\n  padding: 0;\\n  white-space: pre;\\n  border: none;\\n  background: transparent; }\\n\\n.highlight pre {\\n  background-color: #f8f8f8;\\n  border: 1px solid #cccccc;\\n  font-size: 13px;\\n  line-height: 19px;\\n  overflow: auto;\\n  padding: 6px 10px;\\n  border-radius: 3px; }\\n\\npre {\\n  background-color: #f8f8f8;\\n  border: 1px solid #cccccc;\\n  font-size: 13px;\\n  line-height: 19px;\\n  overflow: auto;\\n  padding: 6px 10px;\\n  border-radius: 3px; }\\n  pre code, pre tt {\\n    background-color: transparent;\\n    border: none; }\\n\\nsup {\\n    font-size: 0.83em;\\n    vertical-align: super;\\n    line-height: 0;\\n}\\n* {\\n\\t-webkit-print-color-adjust: exact;\\n}\\n@media screen and (min-width: 914px) {\\n    body {\\n        width: 854px;\\n        margin:0 auto;\\n    }\\n}\\n@media print {\\n\\ttable, pre {\\n\\t\\tpage-break-inside: avoid;\\n\\t}\\n\\tpre {\\n\\t\\tword-wrap: break-word;\\n\\t}\\n}\\n</style>\\n\\n\\n</head>\\n\\n<body>\\n\\n<p><head>\\n<title>&quot;My list of sociology journals&quot;</title>\\n</head></p>\\n\\n<h2 id=\"toc_0\">Sociology Journals</h2>\\n\\n<ul>\\n<li><a href=\"http://asr.sagepub.com\">American Sociological Review</a></li>\\n<li><a href=\"http://www.journals.uchicago.edu/toc/ajs/current\">American Journal of Sociology</a></li>\\n<li><a href=\"https://sf.oxfordjournals.org\">Social Forces</a></li>\\n<li><a href=\"http://socpro.oxfordjournals.org\">Social Problems</a></li>\\n</ul>\\n\\n\\n\\n\\n</body>\\n\\n</html>\\n'"
      ]
     },
     "execution_count": 157,
     "metadata": {},
     "output_type": "execute_result"
    }
   ],
   "source": [
    "html"
   ]
  },
  {
   "cell_type": "code",
   "execution_count": 149,
   "metadata": {
    "collapsed": false
   },
   "outputs": [
    {
     "data": {
      "text/html": [
       "<!DOCTYPE html>\n",
       "<html>\n",
       "\n",
       "<head>\n",
       "\n",
       "<meta charset=\"utf-8\">\n",
       "<title>scrape_list</title>\n",
       "\n",
       "\n",
       "<style type=\"text/css\">\n",
       "body {\n",
       "  font-family: Helvetica, arial, sans-serif;\n",
       "  font-size: 14px;\n",
       "  line-height: 1.6;\n",
       "  padding-top: 10px;\n",
       "  padding-bottom: 10px;\n",
       "  background-color: white;\n",
       "  padding: 30px; }\n",
       "\n",
       "body > *:first-child {\n",
       "  margin-top: 0 !important; }\n",
       "body > *:last-child {\n",
       "  margin-bottom: 0 !important; }\n",
       "\n",
       "a {\n",
       "  color: #4183C4; }\n",
       "a.absent {\n",
       "  color: #cc0000; }\n",
       "a.anchor {\n",
       "  display: block;\n",
       "  padding-left: 30px;\n",
       "  margin-left: -30px;\n",
       "  cursor: pointer;\n",
       "  position: absolute;\n",
       "  top: 0;\n",
       "  left: 0;\n",
       "  bottom: 0; }\n",
       "\n",
       "h1, h2, h3, h4, h5, h6 {\n",
       "  margin: 20px 0 10px;\n",
       "  padding: 0;\n",
       "  font-weight: bold;\n",
       "  -webkit-font-smoothing: antialiased;\n",
       "  cursor: text;\n",
       "  position: relative; }\n",
       "\n",
       "h1:hover a.anchor, h2:hover a.anchor, h3:hover a.anchor, h4:hover a.anchor, h5:hover a.anchor, h6:hover a.anchor {\n",
       "  background: url(data:image/png;base64,iVBORw0KGgoAAAANSUhEUgAAABAAAAAQCAYAAAAf8/9hAAAAGXRFWHRTb2Z0d2FyZQBBZG9iZSBJbWFnZVJlYWR5ccllPAAAA09pVFh0WE1MOmNvbS5hZG9iZS54bXAAAAAAADw/eHBhY2tldCBiZWdpbj0i77u/IiBpZD0iVzVNME1wQ2VoaUh6cmVTek5UY3prYzlkIj8+IDx4OnhtcG1ldGEgeG1sbnM6eD0iYWRvYmU6bnM6bWV0YS8iIHg6eG1wdGs9IkFkb2JlIFhNUCBDb3JlIDUuMy1jMDExIDY2LjE0NTY2MSwgMjAxMi8wMi8wNi0xNDo1NjoyNyAgICAgICAgIj4gPHJkZjpSREYgeG1sbnM6cmRmPSJodHRwOi8vd3d3LnczLm9yZy8xOTk5LzAyLzIyLXJkZi1zeW50YXgtbnMjIj4gPHJkZjpEZXNjcmlwdGlvbiByZGY6YWJvdXQ9IiIgeG1sbnM6eG1wPSJodHRwOi8vbnMuYWRvYmUuY29tL3hhcC8xLjAvIiB4bWxuczp4bXBNTT0iaHR0cDovL25zLmFkb2JlLmNvbS94YXAvMS4wL21tLyIgeG1sbnM6c3RSZWY9Imh0dHA6Ly9ucy5hZG9iZS5jb20veGFwLzEuMC9zVHlwZS9SZXNvdXJjZVJlZiMiIHhtcDpDcmVhdG9yVG9vbD0iQWRvYmUgUGhvdG9zaG9wIENTNiAoMTMuMCAyMDEyMDMwNS5tLjQxNSAyMDEyLzAzLzA1OjIxOjAwOjAwKSAgKE1hY2ludG9zaCkiIHhtcE1NOkluc3RhbmNlSUQ9InhtcC5paWQ6OUM2NjlDQjI4ODBGMTFFMTg1ODlEODNERDJBRjUwQTQiIHhtcE1NOkRvY3VtZW50SUQ9InhtcC5kaWQ6OUM2NjlDQjM4ODBGMTFFMTg1ODlEODNERDJBRjUwQTQiPiA8eG1wTU06RGVyaXZlZEZyb20gc3RSZWY6aW5zdGFuY2VJRD0ieG1wLmlpZDo5QzY2OUNCMDg4MEYxMUUxODU4OUQ4M0REMkFGNTBBNCIgc3RSZWY6ZG9jdW1lbnRJRD0ieG1wLmRpZDo5QzY2OUNCMTg4MEYxMUUxODU4OUQ4M0REMkFGNTBBNCIvPiA8L3JkZjpEZXNjcmlwdGlvbj4gPC9yZGY6UkRGPiA8L3g6eG1wbWV0YT4gPD94cGFja2V0IGVuZD0iciI/PsQhXeAAAABfSURBVHjaYvz//z8DJYCRUgMYQAbAMBQIAvEqkBQWXI6sHqwHiwG70TTBxGaiWwjCTGgOUgJiF1J8wMRAIUA34B4Q76HUBelAfJYSA0CuMIEaRP8wGIkGMA54bgQIMACAmkXJi0hKJQAAAABJRU5ErkJggg==) no-repeat 10px center;\n",
       "  text-decoration: none; }\n",
       "\n",
       "h1 tt, h1 code {\n",
       "  font-size: inherit; }\n",
       "\n",
       "h2 tt, h2 code {\n",
       "  font-size: inherit; }\n",
       "\n",
       "h3 tt, h3 code {\n",
       "  font-size: inherit; }\n",
       "\n",
       "h4 tt, h4 code {\n",
       "  font-size: inherit; }\n",
       "\n",
       "h5 tt, h5 code {\n",
       "  font-size: inherit; }\n",
       "\n",
       "h6 tt, h6 code {\n",
       "  font-size: inherit; }\n",
       "\n",
       "h1 {\n",
       "  font-size: 28px;\n",
       "  color: black; }\n",
       "\n",
       "h2 {\n",
       "  font-size: 24px;\n",
       "  border-bottom: 1px solid #cccccc;\n",
       "  color: black; }\n",
       "\n",
       "h3 {\n",
       "  font-size: 18px; }\n",
       "\n",
       "h4 {\n",
       "  font-size: 16px; }\n",
       "\n",
       "h5 {\n",
       "  font-size: 14px; }\n",
       "\n",
       "h6 {\n",
       "  color: #777777;\n",
       "  font-size: 14px; }\n",
       "\n",
       "p, blockquote, ul, ol, dl, li, table, pre {\n",
       "  margin: 15px 0; }\n",
       "\n",
       "hr {\n",
       "  background: transparent url(data:image/png;base64,iVBORw0KGgoAAAANSUhEUgAAAAYAAAAECAYAAACtBE5DAAAAGXRFWHRTb2Z0d2FyZQBBZG9iZSBJbWFnZVJlYWR5ccllPAAAAyJpVFh0WE1MOmNvbS5hZG9iZS54bXAAAAAAADw/eHBhY2tldCBiZWdpbj0i77u/IiBpZD0iVzVNME1wQ2VoaUh6cmVTek5UY3prYzlkIj8+IDx4OnhtcG1ldGEgeG1sbnM6eD0iYWRvYmU6bnM6bWV0YS8iIHg6eG1wdGs9IkFkb2JlIFhNUCBDb3JlIDUuMC1jMDYwIDYxLjEzNDc3NywgMjAxMC8wMi8xMi0xNzozMjowMCAgICAgICAgIj4gPHJkZjpSREYgeG1sbnM6cmRmPSJodHRwOi8vd3d3LnczLm9yZy8xOTk5LzAyLzIyLXJkZi1zeW50YXgtbnMjIj4gPHJkZjpEZXNjcmlwdGlvbiByZGY6YWJvdXQ9IiIgeG1sbnM6eG1wPSJodHRwOi8vbnMuYWRvYmUuY29tL3hhcC8xLjAvIiB4bWxuczp4bXBNTT0iaHR0cDovL25zLmFkb2JlLmNvbS94YXAvMS4wL21tLyIgeG1sbnM6c3RSZWY9Imh0dHA6Ly9ucy5hZG9iZS5jb20veGFwLzEuMC9zVHlwZS9SZXNvdXJjZVJlZiMiIHhtcDpDcmVhdG9yVG9vbD0iQWRvYmUgUGhvdG9zaG9wIENTNSBNYWNpbnRvc2giIHhtcE1NOkluc3RhbmNlSUQ9InhtcC5paWQ6OENDRjNBN0E2NTZBMTFFMEI3QjRBODM4NzJDMjlGNDgiIHhtcE1NOkRvY3VtZW50SUQ9InhtcC5kaWQ6OENDRjNBN0I2NTZBMTFFMEI3QjRBODM4NzJDMjlGNDgiPiA8eG1wTU06RGVyaXZlZEZyb20gc3RSZWY6aW5zdGFuY2VJRD0ieG1wLmlpZDo4Q0NGM0E3ODY1NkExMUUwQjdCNEE4Mzg3MkMyOUY0OCIgc3RSZWY6ZG9jdW1lbnRJRD0ieG1wLmRpZDo4Q0NGM0E3OTY1NkExMUUwQjdCNEE4Mzg3MkMyOUY0OCIvPiA8L3JkZjpEZXNjcmlwdGlvbj4gPC9yZGY6UkRGPiA8L3g6eG1wbWV0YT4gPD94cGFja2V0IGVuZD0iciI/PqqezsUAAAAfSURBVHjaYmRABcYwBiM2QSA4y4hNEKYDQxAEAAIMAHNGAzhkPOlYAAAAAElFTkSuQmCC) repeat-x 0 0;\n",
       "  border: 0 none;\n",
       "  color: #cccccc;\n",
       "  height: 4px;\n",
       "  padding: 0;\n",
       "}\n",
       "\n",
       "body > h2:first-child {\n",
       "  margin-top: 0;\n",
       "  padding-top: 0; }\n",
       "body > h1:first-child {\n",
       "  margin-top: 0;\n",
       "  padding-top: 0; }\n",
       "  body > h1:first-child + h2 {\n",
       "    margin-top: 0;\n",
       "    padding-top: 0; }\n",
       "body > h3:first-child, body > h4:first-child, body > h5:first-child, body > h6:first-child {\n",
       "  margin-top: 0;\n",
       "  padding-top: 0; }\n",
       "\n",
       "a:first-child h1, a:first-child h2, a:first-child h3, a:first-child h4, a:first-child h5, a:first-child h6 {\n",
       "  margin-top: 0;\n",
       "  padding-top: 0; }\n",
       "\n",
       "h1 p, h2 p, h3 p, h4 p, h5 p, h6 p {\n",
       "  margin-top: 0; }\n",
       "\n",
       "li p.first {\n",
       "  display: inline-block; }\n",
       "li {\n",
       "  margin: 0; }\n",
       "ul, ol {\n",
       "  padding-left: 30px; }\n",
       "\n",
       "ul :first-child, ol :first-child {\n",
       "  margin-top: 0; }\n",
       "\n",
       "dl {\n",
       "  padding: 0; }\n",
       "  dl dt {\n",
       "    font-size: 14px;\n",
       "    font-weight: bold;\n",
       "    font-style: italic;\n",
       "    padding: 0;\n",
       "    margin: 15px 0 5px; }\n",
       "    dl dt:first-child {\n",
       "      padding: 0; }\n",
       "    dl dt > :first-child {\n",
       "      margin-top: 0; }\n",
       "    dl dt > :last-child {\n",
       "      margin-bottom: 0; }\n",
       "  dl dd {\n",
       "    margin: 0 0 15px;\n",
       "    padding: 0 15px; }\n",
       "    dl dd > :first-child {\n",
       "      margin-top: 0; }\n",
       "    dl dd > :last-child {\n",
       "      margin-bottom: 0; }\n",
       "\n",
       "blockquote {\n",
       "  border-left: 4px solid #dddddd;\n",
       "  padding: 0 15px;\n",
       "  color: #777777; }\n",
       "  blockquote > :first-child {\n",
       "    margin-top: 0; }\n",
       "  blockquote > :last-child {\n",
       "    margin-bottom: 0; }\n",
       "\n",
       "table {\n",
       "  padding: 0;border-collapse: collapse; }\n",
       "  table tr {\n",
       "    border-top: 1px solid #cccccc;\n",
       "    background-color: white;\n",
       "    margin: 0;\n",
       "    padding: 0; }\n",
       "    table tr:nth-child(2n) {\n",
       "      background-color: #f8f8f8; }\n",
       "    table tr th {\n",
       "      font-weight: bold;\n",
       "      border: 1px solid #cccccc;\n",
       "      margin: 0;\n",
       "      padding: 6px 13px; }\n",
       "    table tr td {\n",
       "      border: 1px solid #cccccc;\n",
       "      margin: 0;\n",
       "      padding: 6px 13px; }\n",
       "    table tr th :first-child, table tr td :first-child {\n",
       "      margin-top: 0; }\n",
       "    table tr th :last-child, table tr td :last-child {\n",
       "      margin-bottom: 0; }\n",
       "\n",
       "img {\n",
       "  max-width: 100%; }\n",
       "\n",
       "span.frame {\n",
       "  display: block;\n",
       "  overflow: hidden; }\n",
       "  span.frame > span {\n",
       "    border: 1px solid #dddddd;\n",
       "    display: block;\n",
       "    float: left;\n",
       "    overflow: hidden;\n",
       "    margin: 13px 0 0;\n",
       "    padding: 7px;\n",
       "    width: auto; }\n",
       "  span.frame span img {\n",
       "    display: block;\n",
       "    float: left; }\n",
       "  span.frame span span {\n",
       "    clear: both;\n",
       "    color: #333333;\n",
       "    display: block;\n",
       "    padding: 5px 0 0; }\n",
       "span.align-center {\n",
       "  display: block;\n",
       "  overflow: hidden;\n",
       "  clear: both; }\n",
       "  span.align-center > span {\n",
       "    display: block;\n",
       "    overflow: hidden;\n",
       "    margin: 13px auto 0;\n",
       "    text-align: center; }\n",
       "  span.align-center span img {\n",
       "    margin: 0 auto;\n",
       "    text-align: center; }\n",
       "span.align-right {\n",
       "  display: block;\n",
       "  overflow: hidden;\n",
       "  clear: both; }\n",
       "  span.align-right > span {\n",
       "    display: block;\n",
       "    overflow: hidden;\n",
       "    margin: 13px 0 0;\n",
       "    text-align: right; }\n",
       "  span.align-right span img {\n",
       "    margin: 0;\n",
       "    text-align: right; }\n",
       "span.float-left {\n",
       "  display: block;\n",
       "  margin-right: 13px;\n",
       "  overflow: hidden;\n",
       "  float: left; }\n",
       "  span.float-left span {\n",
       "    margin: 13px 0 0; }\n",
       "span.float-right {\n",
       "  display: block;\n",
       "  margin-left: 13px;\n",
       "  overflow: hidden;\n",
       "  float: right; }\n",
       "  span.float-right > span {\n",
       "    display: block;\n",
       "    overflow: hidden;\n",
       "    margin: 13px auto 0;\n",
       "    text-align: right; }\n",
       "\n",
       "code, tt {\n",
       "  margin: 0 2px;\n",
       "  padding: 0 5px;\n",
       "  white-space: nowrap;\n",
       "  border: 1px solid #eaeaea;\n",
       "  background-color: #f8f8f8;\n",
       "  border-radius: 3px; }\n",
       "\n",
       "pre code {\n",
       "  margin: 0;\n",
       "  padding: 0;\n",
       "  white-space: pre;\n",
       "  border: none;\n",
       "  background: transparent; }\n",
       "\n",
       ".highlight pre {\n",
       "  background-color: #f8f8f8;\n",
       "  border: 1px solid #cccccc;\n",
       "  font-size: 13px;\n",
       "  line-height: 19px;\n",
       "  overflow: auto;\n",
       "  padding: 6px 10px;\n",
       "  border-radius: 3px; }\n",
       "\n",
       "pre {\n",
       "  background-color: #f8f8f8;\n",
       "  border: 1px solid #cccccc;\n",
       "  font-size: 13px;\n",
       "  line-height: 19px;\n",
       "  overflow: auto;\n",
       "  padding: 6px 10px;\n",
       "  border-radius: 3px; }\n",
       "  pre code, pre tt {\n",
       "    background-color: transparent;\n",
       "    border: none; }\n",
       "\n",
       "sup {\n",
       "    font-size: 0.83em;\n",
       "    vertical-align: super;\n",
       "    line-height: 0;\n",
       "}\n",
       "* {\n",
       "\t-webkit-print-color-adjust: exact;\n",
       "}\n",
       "@media screen and (min-width: 914px) {\n",
       "    body {\n",
       "        width: 854px;\n",
       "        margin:0 auto;\n",
       "    }\n",
       "}\n",
       "@media print {\n",
       "\ttable, pre {\n",
       "\t\tpage-break-inside: avoid;\n",
       "\t}\n",
       "\tpre {\n",
       "\t\tword-wrap: break-word;\n",
       "\t}\n",
       "}\n",
       "</style>\n",
       "\n",
       "\n",
       "</head>\n",
       "\n",
       "<body>\n",
       "\n",
       "<p><title>&quot;My list of sociology journals&quot;</title></p>\n",
       "\n",
       "<h2 id=\"toc_0\">Sociology Journals</h2>\n",
       "\n",
       "<ul>\n",
       "<li><a href=\"http://asr.sagepub.com\">American Sociological Review</a></li>\n",
       "<li><a href=\"http://www.journals.uchicago.edu/toc/ajs/current\">American Journal of Sociology</a></li>\n",
       "<li><a href=\"https://sf.oxfordjournals.org\">Social Forces</a></li>\n",
       "<li><a href=\"http://socpro.oxfordjournals.org\">Social Problems</a></li>\n",
       "</ul>\n",
       "\n",
       "\n",
       "\n",
       "\n",
       "</body>\n",
       "\n",
       "</html>\n"
      ],
      "text/plain": [
       "<IPython.core.display.HTML object>"
      ]
     },
     "execution_count": 149,
     "metadata": {},
     "output_type": "execute_result"
    }
   ],
   "source": [
    "from IPython.display import HTML as display_HTML\n",
    "\n",
    "display_HTML(html)"
   ]
  },
  {
   "cell_type": "code",
   "execution_count": 142,
   "metadata": {
    "collapsed": false
   },
   "outputs": [],
   "source": [
    "soup = BeautifulSoup(html)"
   ]
  },
  {
   "cell_type": "code",
   "execution_count": 143,
   "metadata": {
    "collapsed": false
   },
   "outputs": [
    {
     "data": {
      "text/plain": [
       "[<li><a href=\"http://asr.sagepub.com\">American Sociological Review</a></li>,\n",
       " <li><a href=\"http://www.journals.uchicago.edu/toc/ajs/current\">American Journal of Sociology</a></li>,\n",
       " <li><a href=\"https://sf.oxfordjournals.org\">Social Forces</a></li>,\n",
       " <li><a href=\"http://socpro.oxfordjournals.org\">Social Problems</a></li>]"
      ]
     },
     "execution_count": 143,
     "metadata": {},
     "output_type": "execute_result"
    }
   ],
   "source": [
    "soup.findAll('li')"
   ]
  },
  {
   "cell_type": "code",
   "execution_count": 144,
   "metadata": {
    "collapsed": false
   },
   "outputs": [
    {
     "name": "stdout",
     "output_type": "stream",
     "text": [
      "American Sociological Review\n",
      "http://asr.sagepub.com\n",
      "American Journal of Sociology\n",
      "http://www.journals.uchicago.edu/toc/ajs/current\n",
      "Social Forces\n",
      "https://sf.oxfordjournals.org\n",
      "Social Problems\n",
      "http://socpro.oxfordjournals.org\n"
     ]
    }
   ],
   "source": [
    "for item in soup.findAll('li'):\n",
    "    print item.get_text()\n",
    "    print item.a.get('href')"
   ]
  },
  {
   "cell_type": "code",
   "execution_count": 145,
   "metadata": {
    "collapsed": false
   },
   "outputs": [],
   "source": [
    "def save_list_item(item):\n",
    "    item_dict = {}\n",
    "    item_dict['text'] = item.get_text()\n",
    "    item_dict['link'] = item.a.get('href')\n",
    "    return item_dict"
   ]
  },
  {
   "cell_type": "code",
   "execution_count": 146,
   "metadata": {
    "collapsed": false
   },
   "outputs": [],
   "source": [
    "items = []\n",
    "for item in soup.findAll('li'):\n",
    "    items.append(save_list_item(item))"
   ]
  },
  {
   "cell_type": "code",
   "execution_count": 147,
   "metadata": {
    "collapsed": false
   },
   "outputs": [],
   "source": [
    "import pandas as pd"
   ]
  },
  {
   "cell_type": "code",
   "execution_count": 148,
   "metadata": {
    "collapsed": false
   },
   "outputs": [
    {
     "data": {
      "text/html": [
       "<div>\n",
       "<table border=\"1\" class=\"dataframe\">\n",
       "  <thead>\n",
       "    <tr style=\"text-align: right;\">\n",
       "      <th></th>\n",
       "      <th>link</th>\n",
       "      <th>text</th>\n",
       "    </tr>\n",
       "  </thead>\n",
       "  <tbody>\n",
       "    <tr>\n",
       "      <th>0</th>\n",
       "      <td>http://asr.sagepub.com</td>\n",
       "      <td>American Sociological Review</td>\n",
       "    </tr>\n",
       "    <tr>\n",
       "      <th>1</th>\n",
       "      <td>http://www.journals.uchicago.edu/toc/ajs/current</td>\n",
       "      <td>American Journal of Sociology</td>\n",
       "    </tr>\n",
       "    <tr>\n",
       "      <th>2</th>\n",
       "      <td>https://sf.oxfordjournals.org</td>\n",
       "      <td>Social Forces</td>\n",
       "    </tr>\n",
       "    <tr>\n",
       "      <th>3</th>\n",
       "      <td>http://socpro.oxfordjournals.org</td>\n",
       "      <td>Social Problems</td>\n",
       "    </tr>\n",
       "  </tbody>\n",
       "</table>\n",
       "</div>"
      ],
      "text/plain": [
       "                                               link  \\\n",
       "0                            http://asr.sagepub.com   \n",
       "1  http://www.journals.uchicago.edu/toc/ajs/current   \n",
       "2                     https://sf.oxfordjournals.org   \n",
       "3                  http://socpro.oxfordjournals.org   \n",
       "\n",
       "                            text  \n",
       "0   American Sociological Review  \n",
       "1  American Journal of Sociology  \n",
       "2                  Social Forces  \n",
       "3                Social Problems  "
      ]
     },
     "execution_count": 148,
     "metadata": {},
     "output_type": "execute_result"
    }
   ],
   "source": [
    "pd.DataFrame(items)"
   ]
  },
  {
   "cell_type": "code",
   "execution_count": 153,
   "metadata": {
    "collapsed": false
   },
   "outputs": [
    {
     "data": {
      "text/plain": [
       "<title>scrape_list</title>"
      ]
     },
     "execution_count": 153,
     "metadata": {},
     "output_type": "execute_result"
    }
   ],
   "source": [
    "soup.title"
   ]
  },
  {
   "cell_type": "code",
   "execution_count": 158,
   "metadata": {
    "collapsed": true
   },
   "outputs": [],
   "source": [
    "tib_url = 'http://thisibelieve.org/themes/'"
   ]
  },
  {
   "cell_type": "code",
   "execution_count": 159,
   "metadata": {
    "collapsed": true
   },
   "outputs": [],
   "source": [
    "tib_html = requests.get(tib_url).text"
   ]
  },
  {
   "cell_type": "code",
   "execution_count": 160,
   "metadata": {
    "collapsed": true
   },
   "outputs": [],
   "source": [
    "tib_soup = BeautifulSoup(tib_html)"
   ]
  },
  {
   "cell_type": "code",
   "execution_count": 163,
   "metadata": {
    "collapsed": false
   },
   "outputs": [
    {
     "data": {
      "text/plain": [
       "[<li class=\"nav-explore\"><h4>Explore</h4>\\n<ul>\\n<li><a href=\"http://thisibelieve.org/essays/featured/\">Featured Essays</a></li>\\n<li><a href=\"http://thisibelieve.org/feature/\">Special Features</a></li>\\n<li><a href=\"http://thisibelieve.org/essays/fifties/\">1950s Essays</a></li>\\n<li><a href=\"http://thisibelieve.org/themes/\">Browse by Theme</a></li>\\n<li><a href=\"http://thisibelieve.org/podcasts/\">Podcast Sign-Up</a></li>\\n<li><a href=\"http://thisibelieve.org/search/\">Essay Search</a></li>\\n</ul>\\n</li>,\n",
       " <li><a href=\"http://thisibelieve.org/essays/featured/\">Featured Essays</a></li>,\n",
       " <li><a href=\"http://thisibelieve.org/feature/\">Special Features</a></li>,\n",
       " <li><a href=\"http://thisibelieve.org/essays/fifties/\">1950s Essays</a></li>,\n",
       " <li><a href=\"http://thisibelieve.org/themes/\">Browse by Theme</a></li>,\n",
       " <li><a href=\"http://thisibelieve.org/podcasts/\">Podcast Sign-Up</a></li>,\n",
       " <li><a href=\"http://thisibelieve.org/search/\">Essay Search</a></li>,\n",
       " <li class=\"nav-participate\"><h4>Participate</h4>\\n<ul>\\n<li><a href=\"http://thisibelieve.org/in-your-community/\">Community Activities</a></li>\\n<li><a href=\"http://thisibelieve.org/communities/worship/\">Houses of Worship</a></li>\\n<li><a href=\"http://thisibelieve.org/communities/\">Community Resources</a></li>\\n<li><a href=\"http://thisibelieve.org/guidelines/\">Essay Writing Guidelines</a></li>\\n</ul>\\n</li>,\n",
       " <li><a href=\"http://thisibelieve.org/in-your-community/\">Community Activities</a></li>,\n",
       " <li><a href=\"http://thisibelieve.org/communities/worship/\">Houses of Worship</a></li>,\n",
       " <li><a href=\"http://thisibelieve.org/communities/\">Community Resources</a></li>,\n",
       " <li><a href=\"http://thisibelieve.org/guidelines/\">Essay Writing Guidelines</a></li>,\n",
       " <li class=\"nav-donate\"><h4>Donate</h4>\\n<ul>\\n<li><a href=\"https://thisibelieve.org/store/support/\">Make a Donation</a></li>\\n<li><a href=\"http://thisibelieve.org/thankyou/\">Friends of This I Believe</a></li>\\n<li><a href=\"http://thisibelieve.org/sponsorship/\">Become a Sponsor</a></li>\\n</ul>\\n</li>,\n",
       " <li><a href=\"https://thisibelieve.org/store/support/\">Make a Donation</a></li>,\n",
       " <li><a href=\"http://thisibelieve.org/thankyou/\">Friends of This I Believe</a></li>,\n",
       " <li><a href=\"http://thisibelieve.org/sponsorship/\">Become a Sponsor</a></li>,\n",
       " <li class=\"nav-shop\"><h4>Shop</h4>\\n<ul>\\n<li><a href=\"https://thisibelieve.org/store/\">Store</a></li>\\n<li><a href=\"https://thisibelieve.org/store/account/\">My Account/Log Out</a></li>\\n<li><a href=\"https://thisibelieve.org/store/tracking/\">Order Tracking</a></li>\\n<li><a href=\"https://thisibelieve.org/store/cart/\">Shopping Cart</a></li>\\n<li><a href=\"https://thisibelieve.org/store/checkout/\">Checkout</a></li>\\n<li><a href=\"https://thisibelieve.org/store/category/audio-downloads/\">Audio Downloads</a></li>\\n</ul>\\n</li>,\n",
       " <li><a href=\"https://thisibelieve.org/store/\">Store</a></li>,\n",
       " <li><a href=\"https://thisibelieve.org/store/account/\">My Account/Log Out</a></li>,\n",
       " <li><a href=\"https://thisibelieve.org/store/tracking/\">Order Tracking</a></li>,\n",
       " <li><a href=\"https://thisibelieve.org/store/cart/\">Shopping Cart</a></li>,\n",
       " <li><a href=\"https://thisibelieve.org/store/checkout/\">Checkout</a></li>,\n",
       " <li><a href=\"https://thisibelieve.org/store/category/audio-downloads/\">Audio Downloads</a></li>,\n",
       " <li class=\"nav-educators\"><h4>Educators</h4>\\n<ul>\\n<li><a href=\"http://thisibelieve.org/educators/\">Educator Resources</a></li>\\n<li><a href=\"http://thisibelieve.org/common-reading-programs/\">Common Reading Programs</a></li>\\n<li><a href=\"http://thisibelieve.org/educators/educator-faq/\">Educator FAQ</a></li>\\n<li><a href=\"http://thisibelieve.org/guidelines/\">This I Believe Essay-Writing Guidelines</a></li>\\n</ul>\\n</li>,\n",
       " <li><a href=\"http://thisibelieve.org/educators/\">Educator Resources</a></li>,\n",
       " <li><a href=\"http://thisibelieve.org/common-reading-programs/\">Common Reading Programs</a></li>,\n",
       " <li><a href=\"http://thisibelieve.org/educators/educator-faq/\">Educator FAQ</a></li>,\n",
       " <li><a href=\"http://thisibelieve.org/guidelines/\">This I Believe Essay-Writing Guidelines</a></li>,\n",
       " <li class=\"nav-about\"><h4>About</h4>\\n<ul>\\n<li><a href=\"http://thisibelieve.org/about/\">About Us</a></li>\\n<li><a href=\"http://thisibelieve.org/contact/\">Contact Us</a></li>\\n<li><a href=\"http://thisibelieve.org/credits/\">Credits</a></li>\\n<li><a href=\"http://thisibelieve.org/board-of-directors/\">Board of Directors</a></li>\\n<li><a href=\"http://thisibelieve.org/sponsorship/\">Become a Sponsor</a></li>\\n<li><a href=\"http://thisibelieve.org/speaking/\">Public Speaking</a></li>\\n<li><a href=\"http://thisibelieve.org/faq/\">FAQ</a></li>\\n<li><a href=\"http://thisibelieve.org/history/\">This  I Believe History</a></li>\\n</ul>\\n</li>,\n",
       " <li><a href=\"http://thisibelieve.org/about/\">About Us</a></li>,\n",
       " <li><a href=\"http://thisibelieve.org/contact/\">Contact Us</a></li>,\n",
       " <li><a href=\"http://thisibelieve.org/credits/\">Credits</a></li>,\n",
       " <li><a href=\"http://thisibelieve.org/board-of-directors/\">Board of Directors</a></li>,\n",
       " <li><a href=\"http://thisibelieve.org/sponsorship/\">Become a Sponsor</a></li>,\n",
       " <li><a href=\"http://thisibelieve.org/speaking/\">Public Speaking</a></li>,\n",
       " <li><a href=\"http://thisibelieve.org/faq/\">FAQ</a></li>,\n",
       " <li><a href=\"http://thisibelieve.org/history/\">This  I Believe History</a></li>,\n",
       " <li><a class=\"addiction\" href=\"/theme/addiction/\" title=\"addiction Theme\">addiction</a> (1108)</li>,\n",
       " <li><a class=\"afterlife\" href=\"/theme/afterlife/\" title=\"afterlife Theme\">afterlife</a> (526)</li>,\n",
       " <li><a class=\"america-patriotism\" href=\"/theme/america-patriotism/\" title=\"America &amp; patriotism Theme\">America &amp; patriotism</a> (1674)</li>,\n",
       " <li><a class=\"atheism\" href=\"/theme/atheism/\" title=\"atheism Theme\">atheism</a> (272)</li>,\n",
       " <li><a class=\"birth\" href=\"/theme/birth/\" title=\"birth Theme\">birth</a> (448)</li>,\n",
       " <li><a class=\"brotherhood-friendship\" href=\"/theme/brotherhood-friendship/\" title=\"brotherhood &amp; friendship Theme\">brotherhood &amp; friendship</a> (4466)</li>,\n",
       " <li><a class=\"carpe-diem\" href=\"/theme/carpe-diem/\" title=\"carpe diem Theme\">carpe diem</a> (3558)</li>,\n",
       " <li><a class=\"change\" href=\"/theme/change/\" title=\"change Theme\">change</a> (3857)</li>,\n",
       " <li><a class=\"charity-service\" href=\"/theme/charity-service/\" title=\"charity &amp; service Theme\">charity &amp; service</a> (1723)</li>,\n",
       " <li><a class=\"children\" href=\"/theme/children/\" title=\"children Theme\">children</a> (2552)</li>,\n",
       " <li><a class=\"christianity\" href=\"/theme/christianity/\" title=\"Christianity Theme\">Christianity</a> (1421)</li>,\n",
       " <li><a class=\"citizenship\" href=\"/theme/citizenship/\" title=\"citizenship Theme\">citizenship</a> (512)</li>,\n",
       " <li><a class=\"community\" href=\"/theme/community/\" title=\"community Theme\">community</a> (2228)</li>,\n",
       " <li><a class=\"courage\" href=\"/theme/courage/\" title=\"courage Theme\">courage</a> (2535)</li>,\n",
       " <li><a class=\"creativity\" href=\"/theme/creativity/\" title=\"creativity Theme\">creativity</a> (4660)</li>,\n",
       " <li><a class=\"death\" href=\"/theme/death/\" title=\"death Theme\">death</a> (3588)</li>,\n",
       " <li><a class=\"democracy\" href=\"/theme/democracy/\" title=\"democracy Theme\">democracy</a> (333)</li>,\n",
       " <li><a class=\"disability\" href=\"/theme/disability/\" title=\"disability Theme\">disability</a> (709)</li>,\n",
       " <li><a class=\"discrimination\" href=\"/theme/discrimination/\" title=\"discrimination Theme\">discrimination</a> (891)</li>,\n",
       " <li><a class=\"education-knowledge\" href=\"/theme/education-knowledge/\" title=\"education &amp; knowledge Theme\">education &amp; knowledge</a> (4558)</li>,\n",
       " <li><a class=\"empathy-compassion\" href=\"/theme/empathy-compassion/\" title=\"empathy &amp; compassion Theme\">empathy &amp; compassion</a> (2750)</li>,\n",
       " <li><a class=\"environment\" href=\"/theme/environment/\" title=\"environment Theme\">environment</a> (1080)</li>,\n",
       " <li><a class=\"equality\" href=\"/theme/equality/\" title=\"equality Theme\">equality</a> (1706)</li>,\n",
       " <li><a class=\"faith-religion\" href=\"/theme/faith-religion/\" title=\"faith &amp; religion Theme\">faith &amp; religion</a> (5204)</li>,\n",
       " <li><a class=\"family\" href=\"/theme/family/\" title=\"family Theme\">family</a> (13240)</li>,\n",
       " <li><a class=\"fear\" href=\"/theme/fear/\" title=\"fear Theme\">fear</a> (1075)</li>,\n",
       " <li><a class=\"forgiveness\" href=\"/theme/forgiveness/\" title=\"forgiveness Theme\">forgiveness</a> (1436)</li>,\n",
       " <li><a class=\"freedom\" href=\"/theme/freedom/\" title=\"freedom Theme\">freedom</a> (1100)</li>,\n",
       " <li><a class=\"golden-rule\" href=\"/theme/golden-rule/\" title=\"golden rule Theme\">golden rule</a> (1170)</li>,\n",
       " <li><a class=\"good-evil\" href=\"/theme/good-evil/\" title=\"good &amp; evil Theme\">good &amp; evil</a> (1959)</li>,\n",
       " <li><a class=\"goodness-kindness\" href=\"/theme/goodness-kindness/\" title=\"goodness &amp; kindness Theme\">goodness &amp; kindness</a> (3496)</li>,\n",
       " <li><a class=\"government-constitution\" href=\"/theme/government-constitution/\" title=\"government &amp; constitution Theme\">government &amp; constitution</a> (570)</li>,\n",
       " <li><a class=\"gratitude\" href=\"/theme/gratitude/\" title=\"gratitude Theme\">gratitude</a> (2963)</li>,\n",
       " <li><a class=\"holocaust\" href=\"/theme/holocaust/\" title=\"Holocaust Theme\">Holocaust</a> (68)</li>,\n",
       " <li><a class=\"hope\" href=\"/theme/hope/\" title=\"hope Theme\">hope</a> (3660)</li>,\n",
       " <li><a class=\"humanism\" href=\"/theme/humanism/\" title=\"humanism Theme\">humanism</a> (943)</li>,\n",
       " <li><a class=\"humility\" href=\"/theme/humility/\" title=\"humility Theme\">humility</a> (544)</li>,\n",
       " <li><a class=\"humor\" href=\"/theme/humor/\" title=\"humor &amp; laughter Theme\">humor &amp; laughter</a> (1553)</li>,\n",
       " <li><a class=\"humor-laughter\" href=\"/theme/humor-laughter/\" title=\"humor &amp; laughter Theme\">humor &amp; laughter</a> (1)</li>,\n",
       " <li><a class=\"illness\" href=\"/theme/illness/\" title=\"illness Theme\">illness</a> (2215)</li>,\n",
       " <li><a class=\"immigrant\" href=\"/theme/immigrant/\" title=\"immigrant Theme\">immigrant</a> (850)</li>,\n",
       " <li><a class=\"injustice\" href=\"/theme/injustice/\" title=\"injustice Theme\">injustice</a> (506)</li>,\n",
       " <li><a class=\"integrity\" href=\"/theme/integrity/\" title=\"integrity Theme\">integrity</a> (1849)</li>,\n",
       " <li><a class=\"legacy\" href=\"/theme/legacy/\" title=\"legacy Theme\">legacy</a> (1709)</li>,\n",
       " <li><a class=\"love\" href=\"/theme/love/\" title=\"love Theme\">love</a> (6461)</li>,\n",
       " <li><a class=\"morality\" href=\"/theme/morality/\" title=\"morality Theme\">morality</a> (705)</li>,\n",
       " <li><a class=\"music\" href=\"/theme/music/\" title=\"music Theme\">music</a> (1379)</li>,\n",
       " <li><a class=\"nature\" href=\"/theme/nature/\" title=\"nature Theme\">nature</a> (1771)</li>,\n",
       " <li><a class=\"parenthood\" href=\"/theme/parenthood/\" title=\"parenthood Theme\">parenthood</a> (1940)</li>,\n",
       " <li><a class=\"patriotism\" href=\"/theme/patriotism/\" title=\"patriotism Theme\">patriotism</a> (1726)</li>,\n",
       " <li><a class=\"peace\" href=\"/theme/peace/\" title=\"peace Theme\">peace</a> (820)</li>,\n",
       " <li><a class=\"pets-animals\" href=\"/theme/pets-animals/\" title=\"pets &amp; animals Theme\">pets &amp; animals</a> (1459)</li>,\n",
       " <li><a class=\"place\" href=\"/theme/place/\" title=\"place Theme\">place</a> (1015)</li>,\n",
       " <li><a class=\"pleasure\" href=\"/theme/pleasure/\" title=\"pleasure Theme\">pleasure</a> (2454)</li>,\n",
       " <li><a class=\"popular-culture\" href=\"/theme/popular-culture/\" title=\"popular culture Theme\">popular culture</a> (2449)</li>,\n",
       " <li><a class=\"prejudice\" href=\"/theme/prejudice/\" title=\"prejudice Theme\">prejudice</a> (753)</li>,\n",
       " <li><a class=\"purpose\" href=\"/theme/purpose/\" title=\"purpose Theme\">purpose</a> (2975)</li>,\n",
       " <li><a class=\"question\" href=\"/theme/question/\" title=\"question Theme\">question</a> (2338)</li>,\n",
       " <li><a class=\"race\" href=\"/theme/race/\" title=\"race Theme\">race</a> (728)</li>,\n",
       " <li><a class=\"respect\" href=\"/theme/respect/\" title=\"respect Theme\">respect</a> (2065)</li>,\n",
       " <li><a class=\"responsibility\" href=\"/theme/responsibility/\" title=\"responsibility Theme\">responsibility</a> (2345)</li>,\n",
       " <li><a class=\"science\" href=\"/theme/science/\" title=\"science Theme\">science</a> (874)</li>,\n",
       " <li><a class=\"self-determination\" href=\"/theme/self-determination/\" title=\"self-determination Theme\">self-determination</a> (10797)</li>,\n",
       " <li><a class=\"self-knowledge\" href=\"/theme/self-knowledge/\" title=\"self-knowledge Theme\">self-knowledge</a> (15710)</li>,\n",
       " <li><a class=\"setbacks\" href=\"/theme/setbacks/\" title=\"setbacks Theme\">setbacks</a> (5325)</li>,\n",
       " <li><a class=\"social-justice\" href=\"/theme/social-justice/\" title=\"social justice Theme\">social justice</a> (890)</li>,\n",
       " <li><a class=\"sports\" href=\"/theme/sports/\" title=\"sports Theme\">sports</a> (3863)</li>,\n",
       " <li><a class=\"tolerance\" href=\"/theme/tolerance/\" title=\"tolerance Theme\">tolerance</a> (1572)</li>,\n",
       " <li><a class=\"values-spirituality\" href=\"/theme/values-spirituality/\" title=\"values &amp; spirituality Theme\">values &amp; spirituality</a> (6085)</li>,\n",
       " <li><a class=\"war\" href=\"/theme/war/\" title=\"war Theme\">war</a> (840)</li>,\n",
       " <li><a class=\"work\" href=\"/theme/work/\" title=\"work Theme\">work</a> (4888)</li>,\n",
       " <li class=\"widgetcontainer donate-widget\" id=\"donate-widget-2\"> <h2 class=\"donate\"><a href=\"/support/\">Donate</a></h2>\\n<p>The work of <em>This I Believe</em> is made possible by individuals like you.  Please consider making your <a href=\"/support/\">tax-deductible contribution</a> today.</p>\\n</li>,\n",
       " <li class=\"widgetcontainer widget_text\" id=\"text-454168392\"><h3 class=\"widgettitle\">Top 100 Essays USB Drive</h3>\\n<div class=\"textwidget\"><img alt=\"\" class=\"alignleft\" height=\"75\" src=\"/wp-content/images/USB-Drive-Photo.jpg\" width=\"75\"/>This USB drive contains 100 of the top This I Believe audio broadcasts of the last ten years, plus some favorites from Edward R. Murrow's radio series of the 1950s. It's perfect for personal or classroom use! <a href=\"/store/product/usb-drive/\">Click here to learn more.</a></div>\\n</li>,\n",
       " <li class=\"widgetcontainer widget_text\" id=\"text-454168416\"><h3 class=\"widgettitle\">This week\\u2019s essay</h3>\\n<div class=\"textwidget\"><a href=\"/essay/21254/\"><img alt=\"width=\" class=\"alignleft\" height=\"75\" src=\"/images/Essayists/TIBphoto_Powers.jpg\"/></a>Mountain climbers learn how to rest-step \\u2013 that is, to pause between each step to catch one\\u2019s breath at high altitudes. Climber Phil Powers believes this technique of pacing is valuable in everyday life. <a href=\"/essay/21254/\">Click here</a> to read his essay.</div>\\n</li>,\n",
       " <li class=\"right_responsive\"><script src=\"//ap.lijit.com/www/delivery/fpi.js?z=343731&amp;u=thisibelieve&amp;width=160&amp;height=600\" type=\"text/javascript\"></script></li>,\n",
       " <li class=\"widgetcontainer podcasts-widget\" id=\"podcasts-widget-7\"> <h2 class=\"podcasts\"><a href=\"/podcasts/\">Podcasts</a></h2>\\n<p>Sign up for our free, weekly podcast of <a href=\"/podcasts/\">featured essays</a>. You can download recent episodes individually, or subscribe to automatically receive each podcast. <a href=\"/podcasts/\">Learn more</a>.</p>\\n</li>,\n",
       " <li class=\"widgetcontainer faq-widget\" id=\"faq-widget-2\"> <h2 class=\"faq\"><a href=\"/faq/\">FAQ</a></h2>\\n<p><a href=\"/faq/\">Frequently asked questions</a> about the This I Believe project, educational opportunities and more...</p>\\n</li>,\n",
       " <li class=\"widgetcontainer tib-social-widget\" id=\"tib-social-widget-3\"> <h3>Find Us On Social Media</h3>\\n<ul class=\"social-list\">\\n<li id=\"findtwitter\"><a href=\"http://twitter.com/thisibelieveinc\"></a></li>\\n<li id=\"findpinterest\"><a href=\"http://www.pinterest.com/thisibelieveinc/\"></a></li>\\n<li id=\"findfacebook\"><a href=\"http://www.facebook.com/thisibelieveinc\"></a></li>\\n</ul>\\n</li>,\n",
       " <li id=\"findtwitter\"><a href=\"http://twitter.com/thisibelieveinc\"></a></li>,\n",
       " <li id=\"findpinterest\"><a href=\"http://www.pinterest.com/thisibelieveinc/\"></a></li>,\n",
       " <li id=\"findfacebook\"><a href=\"http://www.facebook.com/thisibelieveinc\"></a></li>,\n",
       " <li class=\"nav-explore\"><h4>Explore</h4>\\n<ul>\\n<li><a href=\"http://thisibelieve.org/essays/featured/\">Featured Essays</a></li>\\n<li><a href=\"http://thisibelieve.org/feature/\">Special Features</a></li>\\n<li><a href=\"http://thisibelieve.org/essays/fifties/\">1950s Essays</a></li>\\n<li><a href=\"http://thisibelieve.org/themes/\">Browse by Theme</a></li>\\n<li><a href=\"http://thisibelieve.org/podcasts/\">Podcast Sign-Up</a></li>\\n<li><a href=\"http://thisibelieve.org/search/\">Essay Search</a></li>\\n</ul>\\n</li>,\n",
       " <li><a href=\"http://thisibelieve.org/essays/featured/\">Featured Essays</a></li>,\n",
       " <li><a href=\"http://thisibelieve.org/feature/\">Special Features</a></li>,\n",
       " <li><a href=\"http://thisibelieve.org/essays/fifties/\">1950s Essays</a></li>,\n",
       " <li><a href=\"http://thisibelieve.org/themes/\">Browse by Theme</a></li>,\n",
       " <li><a href=\"http://thisibelieve.org/podcasts/\">Podcast Sign-Up</a></li>,\n",
       " <li><a href=\"http://thisibelieve.org/search/\">Essay Search</a></li>,\n",
       " <li class=\"nav-participate\"><h4>Participate</h4>\\n<ul>\\n<li><a href=\"http://thisibelieve.org/in-your-community/\">Community Activities</a></li>\\n<li><a href=\"http://thisibelieve.org/communities/worship/\">Houses of Worship</a></li>\\n<li><a href=\"http://thisibelieve.org/communities/\">Community Resources</a></li>\\n<li><a href=\"http://thisibelieve.org/guidelines/\">Essay Writing Guidelines</a></li>\\n</ul>\\n</li>,\n",
       " <li><a href=\"http://thisibelieve.org/in-your-community/\">Community Activities</a></li>,\n",
       " <li><a href=\"http://thisibelieve.org/communities/worship/\">Houses of Worship</a></li>,\n",
       " <li><a href=\"http://thisibelieve.org/communities/\">Community Resources</a></li>,\n",
       " <li><a href=\"http://thisibelieve.org/guidelines/\">Essay Writing Guidelines</a></li>,\n",
       " <li class=\"nav-donate\"><h4>Donate</h4>\\n<ul>\\n<li><a href=\"https://thisibelieve.org/store/support/\">Make a Donation</a></li>\\n<li><a href=\"http://thisibelieve.org/thankyou/\">Friends of This I Believe</a></li>\\n<li><a href=\"http://thisibelieve.org/sponsorship/\">Become a Sponsor</a></li>\\n</ul>\\n</li>,\n",
       " <li><a href=\"https://thisibelieve.org/store/support/\">Make a Donation</a></li>,\n",
       " <li><a href=\"http://thisibelieve.org/thankyou/\">Friends of This I Believe</a></li>,\n",
       " <li><a href=\"http://thisibelieve.org/sponsorship/\">Become a Sponsor</a></li>,\n",
       " <li class=\"nav-shop\"><h4>Shop</h4>\\n<ul>\\n<li><a href=\"https://thisibelieve.org/store/\">Store</a></li>\\n<li><a href=\"https://thisibelieve.org/store/account/\">My Account/Log Out</a></li>\\n<li><a href=\"https://thisibelieve.org/store/tracking/\">Order Tracking</a></li>\\n<li><a href=\"https://thisibelieve.org/store/cart/\">Shopping Cart</a></li>\\n<li><a href=\"https://thisibelieve.org/store/checkout/\">Checkout</a></li>\\n<li><a href=\"https://thisibelieve.org/store/category/audio-downloads/\">Audio Downloads</a></li>\\n</ul>\\n</li>,\n",
       " <li><a href=\"https://thisibelieve.org/store/\">Store</a></li>,\n",
       " <li><a href=\"https://thisibelieve.org/store/account/\">My Account/Log Out</a></li>,\n",
       " <li><a href=\"https://thisibelieve.org/store/tracking/\">Order Tracking</a></li>,\n",
       " <li><a href=\"https://thisibelieve.org/store/cart/\">Shopping Cart</a></li>,\n",
       " <li><a href=\"https://thisibelieve.org/store/checkout/\">Checkout</a></li>,\n",
       " <li><a href=\"https://thisibelieve.org/store/category/audio-downloads/\">Audio Downloads</a></li>,\n",
       " <li class=\"nav-educators\"><h4>Educators</h4>\\n<ul>\\n<li><a href=\"http://thisibelieve.org/educators/\">Educator Resources</a></li>\\n<li><a href=\"http://thisibelieve.org/common-reading-programs/\">Common Reading Programs</a></li>\\n<li><a href=\"http://thisibelieve.org/educators/educator-faq/\">Educator FAQ</a></li>\\n<li><a href=\"http://thisibelieve.org/guidelines/\">This I Believe Essay-Writing Guidelines</a></li>\\n</ul>\\n</li>,\n",
       " <li><a href=\"http://thisibelieve.org/educators/\">Educator Resources</a></li>,\n",
       " <li><a href=\"http://thisibelieve.org/common-reading-programs/\">Common Reading Programs</a></li>,\n",
       " <li><a href=\"http://thisibelieve.org/educators/educator-faq/\">Educator FAQ</a></li>,\n",
       " <li><a href=\"http://thisibelieve.org/guidelines/\">This I Believe Essay-Writing Guidelines</a></li>,\n",
       " <li class=\"nav-about\"><h4>About</h4>\\n<ul>\\n<li><a href=\"http://thisibelieve.org/about/\">About Us</a></li>\\n<li><a href=\"http://thisibelieve.org/contact/\">Contact Us</a></li>\\n<li><a href=\"http://thisibelieve.org/credits/\">Credits</a></li>\\n<li><a href=\"http://thisibelieve.org/board-of-directors/\">Board of Directors</a></li>\\n<li><a href=\"http://thisibelieve.org/sponsorship/\">Become a Sponsor</a></li>\\n<li><a href=\"http://thisibelieve.org/speaking/\">Public Speaking</a></li>\\n<li><a href=\"http://thisibelieve.org/faq/\">FAQ</a></li>\\n<li><a href=\"http://thisibelieve.org/history/\">This  I Believe History</a></li>\\n</ul>\\n</li>,\n",
       " <li><a href=\"http://thisibelieve.org/about/\">About Us</a></li>,\n",
       " <li><a href=\"http://thisibelieve.org/contact/\">Contact Us</a></li>,\n",
       " <li><a href=\"http://thisibelieve.org/credits/\">Credits</a></li>,\n",
       " <li><a href=\"http://thisibelieve.org/board-of-directors/\">Board of Directors</a></li>,\n",
       " <li><a href=\"http://thisibelieve.org/sponsorship/\">Become a Sponsor</a></li>,\n",
       " <li><a href=\"http://thisibelieve.org/speaking/\">Public Speaking</a></li>,\n",
       " <li><a href=\"http://thisibelieve.org/faq/\">FAQ</a></li>,\n",
       " <li><a href=\"http://thisibelieve.org/history/\">This  I Believe History</a></li>]"
      ]
     },
     "execution_count": 163,
     "metadata": {},
     "output_type": "execute_result"
    }
   ],
   "source": [
    "tib_soup.find_all('li')"
   ]
  },
  {
   "cell_type": "code",
   "execution_count": 2,
   "metadata": {
    "collapsed": true
   },
   "outputs": [],
   "source": [
    "url = 'https://raw.githubusercontent.com/nealcaren/Collecting-Text/master/markdown/scrape_list_div.html'"
   ]
  },
  {
   "cell_type": "code",
   "execution_count": 3,
   "metadata": {
    "collapsed": true
   },
   "outputs": [],
   "source": [
    "html2 = requests.get(url).text"
   ]
  },
  {
   "cell_type": "code",
   "execution_count": 4,
   "metadata": {
    "collapsed": false
   },
   "outputs": [
    {
     "name": "stderr",
     "output_type": "stream",
     "text": [
      "//anaconda/lib/python2.7/site-packages/bs4/__init__.py:181: UserWarning: No parser was explicitly specified, so I'm using the best available HTML parser for this system (\"lxml\"). This usually isn't a problem, but if you run this code on another system, or in a different virtual environment, it may use a different parser and behave differently.\n",
      "\n",
      "The code that caused this warning is on line 174 of the file //anaconda/lib/python2.7/runpy.py. To get rid of this warning, change code that looks like this:\n",
      "\n",
      " BeautifulSoup([your markup])\n",
      "\n",
      "to this:\n",
      "\n",
      " BeautifulSoup([your markup], \"lxml\")\n",
      "\n",
      "  markup_type=markup_type))\n"
     ]
    }
   ],
   "source": [
    "soup2 = BeautifulSoup(html2)"
   ]
  },
  {
   "cell_type": "code",
   "execution_count": 5,
   "metadata": {
    "collapsed": false
   },
   "outputs": [
    {
     "data": {
      "text/plain": [
       "[<div class=\"journal_names\">\\n<h1>Sociology Journals</h1>\\n<ul>\\n<li><a href=\"http://asr.sagepub.com\">American Sociological Review</a></li>\\n<li><a href=\"http://www.journals.uchicago.edu/toc/ajs/current\">American Journal of Sociology</a></li>\\n<li><a href=\"https://sf.oxfordjournals.org\">Social Forces</a></li>\\n<li><a href=\"http://socpro.oxfordjournals.org\">Social Problems</a></li></ul>\\n</div>,\n",
       " <div class=\"contact\">\\n<h1>Contact Information</h1>\\n<ul>\\n<li><a href=\"mailto:neal.caren@unc.edu\">email</a></li>\\n<li><a href=\"http://nealcaren.unc.edu\">website</a></li>\\n</ul>\\n</div>]"
      ]
     },
     "execution_count": 5,
     "metadata": {},
     "output_type": "execute_result"
    }
   ],
   "source": [
    "soup2.find_all('div')"
   ]
  },
  {
   "cell_type": "code",
   "execution_count": 6,
   "metadata": {
    "collapsed": false
   },
   "outputs": [
    {
     "data": {
      "text/plain": [
       "[<div class=\"journal_names\">\\n<h1>Sociology Journals</h1>\\n<ul>\\n<li><a href=\"http://asr.sagepub.com\">American Sociological Review</a></li>\\n<li><a href=\"http://www.journals.uchicago.edu/toc/ajs/current\">American Journal of Sociology</a></li>\\n<li><a href=\"https://sf.oxfordjournals.org\">Social Forces</a></li>\\n<li><a href=\"http://socpro.oxfordjournals.org\">Social Problems</a></li></ul>\\n</div>]"
      ]
     },
     "execution_count": 6,
     "metadata": {},
     "output_type": "execute_result"
    }
   ],
   "source": [
    "soup2.find_all('div', \"journal_names\")"
   ]
  },
  {
   "cell_type": "code",
   "execution_count": null,
   "metadata": {
    "collapsed": true
   },
   "outputs": [],
   "source": []
  }
 ],
 "metadata": {
  "kernelspec": {
   "display_name": "Python [default]",
   "language": "python",
   "name": "python2"
  },
  "language_info": {
   "codemirror_mode": {
    "name": "ipython",
    "version": 2
   },
   "file_extension": ".py",
   "mimetype": "text/x-python",
   "name": "python",
   "nbconvert_exporter": "python",
   "pygments_lexer": "ipython2",
   "version": "2.7.12"
  }
 },
 "nbformat": 4,
 "nbformat_minor": 1
}
