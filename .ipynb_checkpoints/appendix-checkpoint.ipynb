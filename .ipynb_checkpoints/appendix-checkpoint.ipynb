{
 "cells": [
  {
   "cell_type": "markdown",
   "metadata": {},
   "source": [
    "### Intro to Python for Social Sciencists\n",
    "\n",
    "In September of 2011, Science magazine printed an [article](http://www.sciencemag.org/content/333/6051/1878) by Cornell sociologists Scott Golder and Michael Macy that examined how trends in positive and negative attitudes varied over the day and the week. To do this, they collected 500 million Tweets produced by more than two million people. They found fascinating daily and weekly patterns in attitudes. It’s a great example of the sort of interesting things social scientists can do with online social network data. More generally, the growth of “big data” presents social scientists with unique opportunities for researching old questions, along with empowering us to ask new questions. \n",
    "\n",
    "Along with these new sources of data, social scienctists are also beginning to import new methods of analysis into their research program. This includes both novel ways of understanding texts, such as topic models, to complex methods for analzying quantitive data, such as ensemble methods like random forests. Traditional closed-source statistical packages, such as [Stata](http://www.stata.com), have been quite slow in adopting these new techniques. In contrasts, R users are much less disadvantaged, particluarly with new packages like [`rvest`](https://github.com/hadley/rvest) for web scraping and several sophisticated pacages for [text analysis](https://cran.r-project.org/web/packages/tm/index.html) and [machine learning](https://cran.r-project.org/web/packages/randomForest/randomForest.pdf). That said, the linqu franca of computer science is Python, likely because the teach it in Stanford's CS 101 course. As such, there is a particularly well developed ecosytem for doing data science with Python with a particular strenght in the collection of data from the internet and the management and processing of text data. I wouldn't recommend a 1st year graduate student *only* learn Python, but I  think there is a tremendous advantage for quantitaitve analysists to be polyglots. There is likely to be a way to collect or analyze data that you can't do with your primary computer statistical package, and not knowing how to do it won't convince Reviewer 2 very well. "
   ]
  },
  {
   "cell_type": "markdown",
   "metadata": {},
   "source": [
    "This tutorial is designed to introduce social scientists to using Python. It does this by working through an example of how to collect and analyze data in the style of Golder and Macy's study. It assumes that the reader is general familiar with social science research, but has little to know experience with Python. Most Python texts are aimed at people who want to learn programming (historically, the only a small minority of Python users were data scientists), and the few that cover topics of interest to sociologists generally assume a computer science background."
   ]
  },
  {
   "cell_type": "markdown",
   "metadata": {},
   "source": [
    "Firing up Python\n",
    "-----\n",
    "\n",
    "I highly recommend installing the [Anaconda](https://store.continuum.io/cshop/anaconda/) Python distribution. In addition to Python (which you might already have on your computer), it bundles a couple of incredibluy useful things: a suite of libraries for doing data science; Jupyter for creating notebooks; and `conda` for installing additional packages. Prior to Anaconda, getting Python up and running for data science involved walking up hill in the snow both ways. \n",
    "\n",
    "This text is written using using [Jupyter Notebook](http://jupyter.org) which is a pretty nifty way to combine code and text. Assuming you have installed it through either of the above mechanism, you start iPython on a Mac by running Terminal and typing `jupyter notebook`. This will open up a browser window. From here, you can create, modify or run notebooks, which are stored with an `.ipynb` extension  (previously called IPython notebooks).  Pro-tip: a Google search for whatever you are trying to figure out plus `filetype:ipynb` will return only notebook results, which are often a great way to see code samples that might solve your problem.  "
   ]
  },
  {
   "cell_type": "markdown",
   "metadata": {},
   "source": [
    "Getting started with strings\n",
    "-------\n",
    "\n",
    "As a general rule, I think its best to think of a big task, like analyzing a million tweets, as a series of simple problems. Develop, through trial and error, solutions to simplified versions of each of the problems.  Link the solutions together, and then, when its working for all your cases, add the required complexity to each of the steps. For this project, the simplest place to start is with analyzing one fake tweet with small sentiment dictionary. After that is up and running, scaling up the number of tweets, including a full sentiment dictionary and using a more sophisticated analytic method, is relatively straighforward.\n",
    "\n",
    "Pretend that the first tweet you wanted to analyze was, “We have some delightful new food in the cafeteria. Awesome!!!.” To tell Python about your tweet, type:"
   ]
  },
  {
   "cell_type": "code",
   "execution_count": 2,
   "metadata": {
    "collapsed": false
   },
   "outputs": [],
   "source": [
    "tweet = 'We have some delightful new food in the cafeteria. Awesome!!!'"
   ]
  },
  {
   "cell_type": "markdown",
   "metadata": {},
   "source": [
    "If you are in Python or iPython, hit the return or enter key after you type the line. If you are in iPython Notebook, hit Shift-Return to run the cell. To fix an error or otherwise change and exisiting line of code in an iPython Notebook, double click on the cell you want to change, edit  the text, and then press Shift-Return to run the revised code line. \n",
    "\n",
    "The text is surrounded by a single quote (*i.e.* `'`) on each side. You can also use double quotes (*i.e.* `\"`) or even triple single quotes (*i.e.* `'''`), but single quotes are the default Python style for entering a string. \n",
    "To make sure that you typed the tweet correctly, you can type:"
   ]
  },
  {
   "cell_type": "code",
   "execution_count": 42,
   "metadata": {
    "collapsed": false
   },
   "outputs": [
    {
     "data": {
      "text/plain": [
       "'We have some delightful new food in the cafeteria. Awesome!!!'"
      ]
     },
     "execution_count": 42,
     "metadata": {},
     "output_type": "execute_result"
    }
   ],
   "source": [
    "tweet"
   ]
  },
  {
   "cell_type": "markdown",
   "metadata": {},
   "source": [
    "Typing the name of a string in Python all by itself prints out the contents. You can get almost the same response using a `print` statement:"
   ]
  },
  {
   "cell_type": "code",
   "execution_count": 43,
   "metadata": {
    "collapsed": false
   },
   "outputs": [
    {
     "name": "stdout",
     "output_type": "stream",
     "text": [
      "We have some delightful new food in the cafeteria. Awesome!!!\n"
     ]
    }
   ],
   "source": [
    "print(tweet)"
   ]
  },
  {
   "cell_type": "markdown",
   "metadata": {},
   "source": [
    "The only difference is that the first response was wrapped in single quotes and the second wasn’t. As a side note, the single quotes weren’t because you put them there. If you used double quotes, you would get the same thing:\n",
    "\n"
   ]
  },
  {
   "cell_type": "code",
   "execution_count": 31,
   "metadata": {
    "collapsed": false
   },
   "outputs": [
    {
     "data": {
      "text/plain": [
       "'We have some delightful new food in the cafeteria. Awesome!!!'"
      ]
     },
     "execution_count": 31,
     "metadata": {},
     "output_type": "execute_result"
    }
   ],
   "source": [
    "tweet = \"We have some delightful new food in the cafeteria. Awesome!!!\"\n",
    "tweet"
   ]
  },
  {
   "cell_type": "markdown",
   "metadata": {},
   "source": [
    "If you are using Python 2.7, which is the default on the Anaconda version although all the cool kids are using Python 3, you don't necessarily need the parenthesis around the thing you want printed."
   ]
  },
  {
   "cell_type": "code",
   "execution_count": 44,
   "metadata": {
    "collapsed": false
   },
   "outputs": [
    {
     "name": "stdout",
     "output_type": "stream",
     "text": [
      "Python 2.7 forever!\n"
     ]
    }
   ],
   "source": [
    "print 'Python 2.7 forever!'"
   ]
  },
  {
   "cell_type": "markdown",
   "metadata": {},
   "source": [
    "Lists\n",
    "----\n",
    "\n",
    "Now, following Golder and Macy, we need to decide if this is a positive or negative opinion. If we had a large sample of the Tweets already coded by sentiment, would could try and figure out which words appeared more often in Tweets we considered positive, and which words appeared more often in Tweets we considered negative. In sociology, we might think about this in a regression framework. We want to predict whether the sentence is positive, negative, or neither, and we could use the presence or absence of words as predictors. In computer science, this would be considered a supervised learning classification problem. But we don’t have a sample precoded, so let’s save classification for another day.\n",
    "\n",
    "One straightforward way to approach the problem is to count the proportion of words that usually have a positive connotation and the proportion of words that have a negative connotation. This is a common analytic strategy in many fields, especially psychology. Golder and Macy’s Twitter study used the lists of positive and negative words that are part of the [Linguistic Inquiry and Word Count (LIWC)](http://liwc.net/) project. This data is only available commercially, so I won’t include it this tutorial. There’s a [similar dictionary](http://www.cs.pitt.edu/mpqa/) that’s freely available, but we won’t use that just yet.\n",
    "\n",
    "For now, you can just make your own list of positive words. We’ll swap in the official list before we are done. Off the top of my head, the words \"awesome\", \"good\", \"nice\", \"super\", and \"fun\" are words that I use when I’m trying to be positive. To put this list into Python:"
   ]
  },
  {
   "cell_type": "code",
   "execution_count": 56,
   "metadata": {
    "collapsed": false
   },
   "outputs": [],
   "source": [
    "positive_words = ['awesome', 'good', 'nice', 'super', 'fun']"
   ]
  },
  {
   "cell_type": "markdown",
   "metadata": {},
   "source": [
    "`positive_words` is the name of our list. I just made up that name right now. There are only a few restrictions on what you can name your list (e.g., it can’t start with a number or have spaces). Feel free to make the name as long and as informative as necessary; there is no reason to name your list `x34` or `list1` because you won't know what they do hours or months later. \n",
    "\n",
    "To tell Python that we are creating a list, you put `['everything','in','brackets','separated','by','commas.']` Since the items in the list are strings, each goes in single quotes. \n",
    "\n",
    "If you wanted to add an item to your list, you append an item to the list:"
   ]
  },
  {
   "cell_type": "code",
   "execution_count": 57,
   "metadata": {
    "collapsed": false
   },
   "outputs": [],
   "source": [
    "positive_words.append('delightful')"
   ]
  },
  {
   "cell_type": "markdown",
   "metadata": {},
   "source": [
    "In this case, you start with the list name, followed by `.append`, and then in parenthesis write the item that you want to add to your list. No `=` required. In Python, lists are considered *mutable* because they be changed, such as by adding or deleting an item. In contrast, strings are *immutable* and can't be changed.\n"
   ]
  },
  {
   "cell_type": "code",
   "execution_count": 58,
   "metadata": {
    "collapsed": false
   },
   "outputs": [
    {
     "data": {
      "text/plain": [
       "'Strings are immutable'"
      ]
     },
     "execution_count": 58,
     "metadata": {},
     "output_type": "execute_result"
    }
   ],
   "source": [
    "s = 'Strings are '\n",
    "s + 'immutable'"
   ]
  },
  {
   "cell_type": "markdown",
   "metadata": {},
   "source": [
    "Above, `immutable` was displayed after `s` but not added to it. "
   ]
  },
  {
   "cell_type": "code",
   "execution_count": 52,
   "metadata": {
    "collapsed": false
   },
   "outputs": [
    {
     "name": "stdout",
     "output_type": "stream",
     "text": [
      "Strings are \n"
     ]
    }
   ],
   "source": [
    "print(s)"
   ]
  },
  {
   "cell_type": "markdown",
   "metadata": {},
   "source": [
    "If you wanted to append text, you would have to create a new variable, although the new variable could have the same name."
   ]
  },
  {
   "cell_type": "code",
   "execution_count": 53,
   "metadata": {
    "collapsed": false
   },
   "outputs": [
    {
     "name": "stdout",
     "output_type": "stream",
     "text": [
      "Strings are immutable\n"
     ]
    }
   ],
   "source": [
    "s = s + 'immutable'\n",
    "print(s)"
   ]
  },
  {
   "cell_type": "markdown",
   "metadata": {},
   "source": [
    "Back to appending our list. If you are adding a new text, you put it in quotes. If you enter a string without quotation marks, Python will think you are referencing something. "
   ]
  },
  {
   "cell_type": "code",
   "execution_count": 59,
   "metadata": {
    "collapsed": false
   },
   "outputs": [
    {
     "ename": "NameError",
     "evalue": "name 'like' is not defined",
     "output_type": "error",
     "traceback": [
      "\u001b[0;31m---------------------------------------------------------------------------\u001b[0m",
      "\u001b[0;31mNameError\u001b[0m                                 Traceback (most recent call last)",
      "\u001b[0;32m<ipython-input-59-d07de71c07d9>\u001b[0m in \u001b[0;36m<module>\u001b[0;34m()\u001b[0m\n\u001b[0;32m----> 1\u001b[0;31m \u001b[0mpositive_words\u001b[0m\u001b[0;34m.\u001b[0m\u001b[0mappend\u001b[0m\u001b[0;34m(\u001b[0m\u001b[0mlike\u001b[0m\u001b[0;34m)\u001b[0m\u001b[0;34m\u001b[0m\u001b[0m\n\u001b[0m",
      "\u001b[0;31mNameError\u001b[0m: name 'like' is not defined"
     ]
    }
   ],
   "source": [
    "positive_words.append(like)"
   ]
  },
  {
   "cell_type": "code",
   "execution_count": 60,
   "metadata": {
    "collapsed": false
   },
   "outputs": [],
   "source": [
    "new_word_to_add = 'like'\n",
    "positive_words.append(new_word_to_add)"
   ]
  },
  {
   "cell_type": "markdown",
   "metadata": {},
   "source": [
    "After I got the error message, I created a new string call `new_word_to_add` which contained the word that I wanted to append. I then added the word “like” to our list by using the string’s name, `new_word_to_add`. This is a pretty inefficient way to do things in this case, but useful in many other situations when you are looping over values.\n",
    "\n",
    "Lists are much more flexible than represented above. Items can be longer than a single word (e.g. `'Super fun'`); strings and numbers can be in the same list (e.g. `[3, 'swell']`); and you can even put additional lists inside your list (e.g. `[[1,2,3],['sociology','political science']]`.\n",
    "\n",
    "If we want to see what was in the list we created above, we can print it:"
   ]
  },
  {
   "cell_type": "code",
   "execution_count": 12,
   "metadata": {
    "collapsed": false
   },
   "outputs": [
    {
     "name": "stdout",
     "output_type": "stream",
     "text": [
      "['awesome', 'good', 'nice', 'super', 'fun', 'delightful', 'like']\n"
     ]
    }
   ],
   "source": [
    "print(positive_words)"
   ]
  },
  {
   "cell_type": "markdown",
   "metadata": {},
   "source": [
    "The brackets remind you that this is a list, and the items in the list are separated by commas.\n",
    "\n",
    "Now create a list of negative words:"
   ]
  },
  {
   "cell_type": "code",
   "execution_count": 61,
   "metadata": {
    "collapsed": false
   },
   "outputs": [
    {
     "name": "stdout",
     "output_type": "stream",
     "text": [
      "['awful', 'lame', 'horrible', 'bad']\n"
     ]
    }
   ],
   "source": [
    "negative_words = ['awful','lame','horrible','bad']\n",
    "print(negative_words)"
   ]
  },
  {
   "cell_type": "markdown",
   "metadata": {},
   "source": [
    "If you wanted to measure whether or not any emotion was expressed, you might create one list that combines all the positive and negative words. Rather than retyping them, you can combine the lists with a plus sign:"
   ]
  },
  {
   "cell_type": "code",
   "execution_count": 62,
   "metadata": {
    "collapsed": false
   },
   "outputs": [
    {
     "name": "stdout",
     "output_type": "stream",
     "text": [
      "['awful', 'lame', 'horrible', 'bad', 'awesome', 'good', 'nice', 'super', 'fun', 'delightful', 'like']\n"
     ]
    }
   ],
   "source": [
    "emotional_words = negative_words + positive_words\n",
    "print(emotional_words)"
   ]
  },
  {
   "cell_type": "markdown",
   "metadata": {},
   "source": [
    "You might have noticed that the negative words are listed first, in the order that they were entered, followed by the postive words, also in the ordered that they were entered. The appended words were placed at the end of the list. In Python, lists remember their order, and you can leverage this fact when you are joining lists or looping over values. In contrast, other ways of storing data in Python, like dictionaries, don't have a fixed order."
   ]
  },
  {
   "cell_type": "markdown",
   "metadata": {},
   "source": [
    "From Strings to Lists\n",
    "-----\n",
    "\n",
    "Later on, we’ll create a better list of positive and negative words, but for now let’s return to the original tweet. The default strategy for this sort of analysis is to examine each word in the sentence on its own, regardless of word ordering. This is called a \"bag of words\" model. It has some obvious drawbacks (e.g. \"This was not fun.\" will show up as positive because of the presence of the word \"fun\".), but, with a few tweaks, these models can be about as good at classification as an undergraduate RA.\n",
    "\n",
    "Since our unit of analysis is the word and not the sentence, we want to split our sentence into words. We can do that by using `split()`:"
   ]
  },
  {
   "cell_type": "code",
   "execution_count": 15,
   "metadata": {
    "collapsed": false
   },
   "outputs": [
    {
     "name": "stdout",
     "output_type": "stream",
     "text": [
      "['We', 'have', 'some', 'delightful', 'new', 'food', 'in', 'the', 'cafeteria.', 'Awesome!!!']\n"
     ]
    }
   ],
   "source": [
    "words = tweet.split()\n",
    "print(words)"
   ]
  },
  {
   "cell_type": "markdown",
   "metadata": {},
   "source": [
    "Here, we’ve split our string `tweet` making a cut every time there was a space. This new object is stored as `words`.  As you can see from the results of the print command, the new object is displayed in brackets, so Python has created `words` as a list. In order to see how many words are in the sentence, you use the `len` function, which will return the number of objects."
   ]
  },
  {
   "cell_type": "code",
   "execution_count": 33,
   "metadata": {
    "collapsed": false
   },
   "outputs": [
    {
     "data": {
      "text/plain": [
       "10"
      ]
     },
     "execution_count": 33,
     "metadata": {},
     "output_type": "execute_result"
    }
   ],
   "source": [
    "len(words)"
   ]
  },
  {
   "cell_type": "markdown",
   "metadata": {},
   "source": [
    "Counting the length and getting the word count only works because we’ve split the sentence into a list of words. If we ask for the length of the original tweet, we get something different:"
   ]
  },
  {
   "cell_type": "code",
   "execution_count": 34,
   "metadata": {
    "collapsed": false
   },
   "outputs": [
    {
     "data": {
      "text/plain": [
       "61"
      ]
     },
     "execution_count": 34,
     "metadata": {},
     "output_type": "execute_result"
    }
   ],
   "source": [
    "len(tweet)"
   ]
  },
  {
   "cell_type": "markdown",
   "metadata": {},
   "source": [
    "Python doesn’t know that you only care about words, so it defaulted to counting the number of characters.\n",
    "\n",
    "By default `split()` divides based on white spaces. To split by something else, put your string inside the parentheses: "
   ]
  },
  {
   "cell_type": "code",
   "execution_count": 35,
   "metadata": {
    "collapsed": false
   },
   "outputs": [
    {
     "name": "stdout",
     "output_type": "stream",
     "text": [
      "['We have some delightful new food in the cafeteria', ' Awesome!!!']\n"
     ]
    }
   ],
   "source": [
    "print tweet.split('.')"
   ]
  },
  {
   "cell_type": "markdown",
   "metadata": {},
   "source": [
    "The resulting list has two elements--you could confirm this with `len(tweet.split('.'))`. This is a horrible way to split a text by sentences, by the way, because it ignores all other punctation and would start a new sentence after every \"Ms.\"."
   ]
  },
  {
   "cell_type": "markdown",
   "metadata": {},
   "source": [
    "Loops\n",
    "---\n",
    "Our first goal is to go through our list of words and see if any of them show up in our list of positive words. For starters, we can loop over each of the words in our sentence with a `for` loop:"
   ]
  },
  {
   "cell_type": "code",
   "execution_count": 16,
   "metadata": {
    "collapsed": false
   },
   "outputs": [
    {
     "name": "stdout",
     "output_type": "stream",
     "text": [
      "We\n",
      "have\n",
      "some\n",
      "delightful\n",
      "new\n",
      "food\n",
      "in\n",
      "the\n",
      "cafeteria.\n",
      "Awesome!!!\n"
     ]
    }
   ],
   "source": [
    "for word in words:\n",
    "    print(word)"
   ]
  },
  {
   "cell_type": "markdown",
   "metadata": {},
   "source": [
    "The `for` tells Python that we are going to cycle through each elements of the list. `word` is the name that I just made up that will hold each of the words. `in words` tells Python which list we want to iterate through, and the colon ends a line that declares a loop. Note that the second line is indented. I used a tab; others put four spaces. Actually, that's a lie. Since I'm using an iPython Notebook, the indentation was created automatically which is awfully convient. Your text editor might do something similar. But anytime a line ends in a `:` Python will expect that the next line be indented.\n",
    "\n",
    "If you don’t indent, Python will report an error:"
   ]
  },
  {
   "cell_type": "code",
   "execution_count": 17,
   "metadata": {
    "collapsed": false
   },
   "outputs": [
    {
     "ename": "IndentationError",
     "evalue": "expected an indented block (<ipython-input-17-d57cbd4eaf01>, line 2)",
     "output_type": "error",
     "traceback": [
      "\u001b[0;36m  File \u001b[0;32m\"<ipython-input-17-d57cbd4eaf01>\"\u001b[0;36m, line \u001b[0;32m2\u001b[0m\n\u001b[0;31m    print(word)\u001b[0m\n\u001b[0m        ^\u001b[0m\n\u001b[0;31mIndentationError\u001b[0m\u001b[0;31m:\u001b[0m expected an indented block\n"
     ]
    }
   ],
   "source": [
    "for word in words:\n",
    "print(word)"
   ]
  },
  {
   "cell_type": "markdown",
   "metadata": {},
   "source": [
    "Since you often need to manipulate each item in a list, you can end up with lots of loops in Python. Loops can be a slow way to process data and multiple nested loops can be difficult to debug or read, so always be on the look out for techinques that minimize them. "
   ]
  },
  {
   "cell_type": "markdown",
   "metadata": {},
   "source": [
    "Conditionals\n",
    "------\n",
    "\n",
    "While this loop prints out each word (when the second line is appropriately tabbed), what we actually want to do is see if that word is the list of positive (or negative) words."
   ]
  },
  {
   "cell_type": "code",
   "execution_count": 18,
   "metadata": {
    "collapsed": false
   },
   "outputs": [
    {
     "name": "stdout",
     "output_type": "stream",
     "text": [
      "delightful\n"
     ]
    }
   ],
   "source": [
    "for word in words:\n",
    "    if word in positive_words:\n",
    "        print(word)"
   ]
  },
  {
   "cell_type": "markdown",
   "metadata": {},
   "source": [
    "Here, we include a conditional: Python only evaluates the `print word` statement if the value of `word` is in our list of positive words. So, the first time the loop cycles through and sees the value of `word` is \"The\", so the loop skips the `print word` line. Here, the `if` line ends in a colon and the lines that should only occur if the conditions are met are doubled indented–once as a result of the `for` and once because of the `if`. \n",
    "\n",
    "We can mix things up by printing a plus sign every time a word in `positive_words` and a minus sign if the word is in `negative_words`."
   ]
  },
  {
   "cell_type": "code",
   "execution_count": 19,
   "metadata": {
    "collapsed": false
   },
   "outputs": [
    {
     "name": "stdout",
     "output_type": "stream",
     "text": [
      "-\n",
      "+\n"
     ]
    }
   ],
   "source": [
    "tweet_2 = \"Food is lame today. I don't like it at all.\"\n",
    "words_2 = tweet_2.split()\n",
    "\n",
    "for word in words_2:\n",
    "    if word in positive_words:\n",
    "        print('+')\n",
    "    elif word in negative_words:\n",
    "        print('-')"
   ]
  },
  {
   "cell_type": "markdown",
   "metadata": {},
   "source": [
    "The first few lines of the loop are quite similar to the original version. We are analyzing a different tweet, so we loop over `words_2` instead of `words`. Instead of printing `word`, we print a plus sign which is in quotes, because that is what we literally want to print.\n",
    "\n",
    "The second time I wanted to evaluated whether `word` was i a list or not, I used `elif` instead of `if`.  `elif` is short for \"else if\", and Python will only evaluate it if the original `if` statement is false.\n",
    "\n",
    "Note that since there wasn't any negative words in the original example, so I created a new string, `tweet_2` that used both positive and negative words. Since I won't be using `tweet_2` or `words_2` anywhere else, I could have bypassed their creation entirely and jumped right to the loop:"
   ]
  },
  {
   "cell_type": "code",
   "execution_count": 40,
   "metadata": {
    "collapsed": false
   },
   "outputs": [
    {
     "name": "stdout",
     "output_type": "stream",
     "text": [
      "-\n",
      "+\n"
     ]
    }
   ],
   "source": [
    "for word in \"Food is lame today. I don't like it at all.\".split():\n",
    "    if word in positive_words:\n",
    "        print('+')\n",
    "    elif word in negative_words:\n",
    "        print('-')"
   ]
  },
  {
   "cell_type": "markdown",
   "metadata": {},
   "source": [
    "This is pretty ugly, so I wouldn't recomend it, but it highlights how Python can perform multiple operations in the same line. That is, we didn't need to create a list ahead of time, we can just create it as part of the `for` statement. \n",
    "\n",
    "You could use `if` again instead of `elif`, but that wastes processesing time and could lead to unitential mistakes. Additionally, you know that I'm done with the original `if` conditional because I've unindented the `elif`. "
   ]
  },
  {
   "cell_type": "code",
   "execution_count": 21,
   "metadata": {
    "collapsed": false
   },
   "outputs": [
    {
     "name": "stdout",
     "output_type": "stream",
     "text": [
      "Dangers of multiple ifs\n",
      "132\n",
      "Big number\n",
      "Medium number\n",
      "25\n",
      "Medium number\n",
      "\n",
      "Benefit of elif\n",
      "132\n",
      "Big number\n",
      "25\n",
      "Medium number\n"
     ]
    }
   ],
   "source": [
    "number_list  = [132, 25]\n",
    "\n",
    "print(\"Dangers of multiple ifs\")\n",
    "for number in number_list:\n",
    "    print number\n",
    "    if number > 100:\n",
    "        print('Big number')\n",
    "    if number > 10:\n",
    "        print('Medium number')\n",
    "\n",
    "print('')\n",
    "print(\"Benefit of elif\")\n",
    "for number in number_list:\n",
    "    print number\n",
    "    if number > 100:\n",
    "        print('Big number')\n",
    "    elif number > 10:\n",
    "        print('Medium number')\n",
    "        "
   ]
  },
  {
   "cell_type": "markdown",
   "metadata": {},
   "source": [
    "You can also use `if not` for when you want to do something when and item doesn't mean the condition, or `else` after and `if` or `elif` if you want an action to happen when none of the other conditions are met. \n",
    "\n",
    "Going back to our original loop, we can make it little bit more informative by adding some text that explains why it is randomly printing out the word, \"delightful\" or a plus sign."
   ]
  },
  {
   "cell_type": "code",
   "execution_count": 22,
   "metadata": {
    "collapsed": false
   },
   "outputs": [
    {
     "name": "stdout",
     "output_type": "stream",
     "text": [
      "delightful is a positive word.\n"
     ]
    }
   ],
   "source": [
    "for word in words:\n",
    "    if word in positive_words:\n",
    "        print(word + ' is a positive word.')"
   ]
  },
  {
   "cell_type": "markdown",
   "metadata": {},
   "source": [
    "When Python sees `+` it attempts to combine the items. In this case, since both `word` and \"is a positive word.\" are strings, the result is a longer string. This is the same logic that we used above to combine the two lists of words to create a longer list. \n",
    "\n",
    "This also works for combining two or more numbers: "
   ]
  },
  {
   "cell_type": "code",
   "execution_count": 23,
   "metadata": {
    "collapsed": false
   },
   "outputs": [
    {
     "name": "stdout",
     "output_type": "stream",
     "text": [
      "6\n"
     ]
    }
   ],
   "source": [
    "print(3 + 3) "
   ]
  },
  {
   "cell_type": "markdown",
   "metadata": {},
   "source": [
    "You can’t use this strategy to combine a string and a number:"
   ]
  },
  {
   "cell_type": "code",
   "execution_count": 24,
   "metadata": {
    "collapsed": false
   },
   "outputs": [
    {
     "ename": "TypeError",
     "evalue": "unsupported operand type(s) for +: 'int' and 'str'",
     "output_type": "error",
     "traceback": [
      "\u001b[0;31m---------------------------------------------------------------------------\u001b[0m",
      "\u001b[0;31mTypeError\u001b[0m                                 Traceback (most recent call last)",
      "\u001b[0;32m<ipython-input-24-1283d9876494>\u001b[0m in \u001b[0;36m<module>\u001b[0;34m()\u001b[0m\n\u001b[0;32m----> 1\u001b[0;31m \u001b[0;32mprint\u001b[0m\u001b[0;34m(\u001b[0m\u001b[0;36m3\u001b[0m \u001b[0;34m+\u001b[0m \u001b[0;34m' is a number.'\u001b[0m\u001b[0;34m)\u001b[0m\u001b[0;34m\u001b[0m\u001b[0m\n\u001b[0m",
      "\u001b[0;31mTypeError\u001b[0m: unsupported operand type(s) for +: 'int' and 'str'"
     ]
    }
   ],
   "source": [
    "print(3 + ' is a number.')"
   ]
  },
  {
   "cell_type": "markdown",
   "metadata": {},
   "source": [
    "Again, a pretty informative error message. Python won't let you combine an interger (`int`) with a string (`str`). But you can tell Python to treat `3` like a string, either by putting it in quotes or by telling Python to convert it to a string."
   ]
  },
  {
   "cell_type": "code",
   "execution_count": 63,
   "metadata": {
    "collapsed": false
   },
   "outputs": [
    {
     "name": "stdout",
     "output_type": "stream",
     "text": [
      "3 is a number.\n",
      "3 is a number.\n",
      "3 is a number.\n"
     ]
    }
   ],
   "source": [
    "print('3' + ' is a number.')\n",
    "\n",
    "print(str(3) + ' is a number.')\n",
    "\n",
    "some_number = 3\n",
    "print(str(some_number) + ' is a number.')"
   ]
  },
  {
   "cell_type": "markdown",
   "metadata": {},
   "source": [
    "You aren’t limited to combining just two items, any number of like objects can be put together with the +. And it isn't just for printing. You can use this method to create new variables whichg you can be manipulated."
   ]
  },
  {
   "cell_type": "code",
   "execution_count": 64,
   "metadata": {
    "collapsed": false
   },
   "outputs": [
    {
     "name": "stdout",
     "output_type": "stream",
     "text": [
      "['3', 'is', 'a', 'number.']\n"
     ]
    }
   ],
   "source": [
    "output = str(some_number) + ' is a number.'\n",
    "\n",
    "print(output.split())"
   ]
  },
  {
   "cell_type": "markdown",
   "metadata": {},
   "source": [
    "Preprocessing\n",
    "=========\n",
    "\n",
    "You might have noticed that while our loop matched “delightful”, it didn’t find “awesome”.  Looking back at the list of words that printed when we printed every word in our tweet might provide some clues as to why this occurred. While we have “awesome” in our positive words list, we don’t have “Awesome!!!” and Python is looking for an exact match. In order to get the two versions to match, we would need to make the “A” lower case and remove the exclamation marks. This is called pre-processing or cleaning the data. Shifting everything to lower case and stripping punctuation are the most common pre-processing tasks in natural language processing. Other common things to do are stemming words, which attempts to find the root of the word (e.g. “running” and “runs” both get reduced to “run”) and removing little words like “the”, “and”, or “if”, which are known as stop words.\n",
    "\n",
    "Since removing capitalization and punctuation involves throwing away potentially meaningful variation, you should proceed with caution. For example, you might think that the “Awesome!!!” is different from “awesome”, that “WOW” is different from ”wow”, or that “Cool!” is different from “Cool?”. In the machine learning tradition (a set of techniques I will discuss in more detail at a later point), this is part of the art of “feature selection”. Social scientists have independent or explanatory variables that they use to explain their models, while computer scientists try to find the “features” with the most predictive power. In natural language processing, features can be more than the absence or presence of specific words. Word count, presence of parts of words, sentence complexity, use of the passive voice, presence of emoticons, or any other text attribute that can be expressed as a number can be included as a feature. I’m a fan of starting with just the words to get a baseline model, and then seeing if you can improve on it. And in this case, we don’t have punctuation or non-lower cases words coded in our list of emotional words, so the decision is made for us.\n",
    "\n",
    "However, making strings lower case in Python is simple:"
   ]
  },
  {
   "cell_type": "code",
   "execution_count": 27,
   "metadata": {
    "collapsed": false
   },
   "outputs": [
    {
     "name": "stdout",
     "output_type": "stream",
     "text": [
      "we have some delightful new food in the cafeteria. awesome!!!\n"
     ]
    }
   ],
   "source": [
    "print(tweet.lower())"
   ]
  },
  {
   "cell_type": "markdown",
   "metadata": {},
   "source": [
    "But we can't do it with a list."
   ]
  },
  {
   "cell_type": "code",
   "execution_count": 65,
   "metadata": {
    "collapsed": false
   },
   "outputs": [
    {
     "ename": "AttributeError",
     "evalue": "'list' object has no attribute 'lower'",
     "output_type": "error",
     "traceback": [
      "\u001b[0;31m---------------------------------------------------------------------------\u001b[0m",
      "\u001b[0;31mAttributeError\u001b[0m                            Traceback (most recent call last)",
      "\u001b[0;32m<ipython-input-65-2ce3427a2f9e>\u001b[0m in \u001b[0;36m<module>\u001b[0;34m()\u001b[0m\n\u001b[0;32m----> 1\u001b[0;31m \u001b[0;32mprint\u001b[0m\u001b[0;34m(\u001b[0m\u001b[0mwords\u001b[0m\u001b[0;34m.\u001b[0m\u001b[0mlower\u001b[0m\u001b[0;34m(\u001b[0m\u001b[0;34m)\u001b[0m\u001b[0;34m)\u001b[0m\u001b[0;34m\u001b[0m\u001b[0m\n\u001b[0m",
      "\u001b[0;31mAttributeError\u001b[0m: 'list' object has no attribute 'lower'"
     ]
    }
   ],
   "source": [
    "print(words.lower())"
   ]
  },
  {
   "cell_type": "markdown",
   "metadata": {},
   "source": [
    "So we either have to make it lower case when it is a full sentence, or we can do it to each individual word:"
   ]
  },
  {
   "cell_type": "code",
   "execution_count": 66,
   "metadata": {
    "collapsed": false
   },
   "outputs": [
    {
     "name": "stdout",
     "output_type": "stream",
     "text": [
      "we\n",
      "have\n",
      "some\n",
      "delightful\n",
      "new\n",
      "food\n",
      "in\n",
      "the\n",
      "cafeteria.\n",
      "awesome!!!\n"
     ]
    }
   ],
   "source": [
    "for word in words:\n",
    "    print(word.lower())"
   ]
  },
  {
   "cell_type": "markdown",
   "metadata": {},
   "source": [
    "Updating our loop, we still don’t find awesome yet:"
   ]
  },
  {
   "cell_type": "code",
   "execution_count": 67,
   "metadata": {
    "collapsed": false
   },
   "outputs": [
    {
     "name": "stdout",
     "output_type": "stream",
     "text": [
      "delightful is a positive word.\n"
     ]
    }
   ],
   "source": [
    "for word in words:\n",
    "    word_lower = word.lower()\n",
    "    if word_lower in positive_words:\n",
    "        print(word_lower + ' is a positive word.')"
   ]
  },
  {
   "cell_type": "markdown",
   "metadata": {},
   "source": [
    "This is because we have not removed the exclamation marks. Python correctly evalutes \"awesome!!!\" to be different from \"awesome.\" \n",
    "\n",
    "One solution would be remove the trailing \"!\". Python has a number of built in ways of manipulating text strings, and in this case we can use `strip()` which removes trailing and leading characters. Like `split()` the default is a whitespace, but it will remove any characters you put in the parentheses. "
   ]
  },
  {
   "cell_type": "code",
   "execution_count": 53,
   "metadata": {
    "collapsed": false
   },
   "outputs": [
    {
     "name": "stdout",
     "output_type": "stream",
     "text": [
      "awesome\n"
     ]
    }
   ],
   "source": [
    "print('awesome!!!'.strip('!'))"
   ]
  },
  {
   "cell_type": "markdown",
   "metadata": {},
   "source": [
    "`split()' can process more than one character, which makes it even more useful:"
   ]
  },
  {
   "cell_type": "code",
   "execution_count": 54,
   "metadata": {
    "collapsed": false
   },
   "outputs": [
    {
     "name": "stdout",
     "output_type": "stream",
     "text": [
      "awesome\n"
     ]
    }
   ],
   "source": [
    "print('awesome.'.strip('!.,?'))"
   ]
  },
  {
   "cell_type": "code",
   "execution_count": 55,
   "metadata": {
    "collapsed": false
   },
   "outputs": [
    {
     "name": "stdout",
     "output_type": "stream",
     "text": [
      "awesome\n"
     ]
    }
   ],
   "source": [
    "print('awesome!?'.strip('!.,?'))"
   ]
  },
  {
   "cell_type": "markdown",
   "metadata": {},
   "source": [
    "Since strip only looks at the end of string, we could use `replace()` if we wanted to remove problem characters from all of the string."
   ]
  },
  {
   "cell_type": "code",
   "execution_count": 56,
   "metadata": {
    "collapsed": false
   },
   "outputs": [
    {
     "name": "stdout",
     "output_type": "stream",
     "text": [
      "awesome!!! party\n",
      "awesome party\n"
     ]
    }
   ],
   "source": [
    "print 'awesome!!! party'.strip('!')\n",
    "print 'awesome!!! party'.replace('!','')"
   ]
  },
  {
   "cell_type": "markdown",
   "metadata": {},
   "source": [
    "`replace()` takes two options, while `strip()` only takes one. The first is what you are looking for–in this case, the exclamation mark. The second is what you want to replace it with–in this case, nothing. As always, strings should be in quotation marks.\n",
    "\n",
    "If you wanted to remove the puncation from a entire sentence, you could use replace because, sometimes, words in the middle of a sentence will have punctuation. Hyphens and other dashes are a tricky case, because sometimes they are used like a colon or comma and you want the removed, and replaced with a space, and other times they are in the middle of word and you either want them kept, or replaced with no space. "
   ]
  },
  {
   "cell_type": "markdown",
   "metadata": {},
   "source": [
    "We can use `strip()`, or `replace()`, to create a new string, which could even have the same name as your old string:"
   ]
  },
  {
   "cell_type": "code",
   "execution_count": 57,
   "metadata": {
    "collapsed": false
   },
   "outputs": [
    {
     "name": "stdout",
     "output_type": "stream",
     "text": [
      "awesome\n"
     ]
    }
   ],
   "source": [
    "word = 'awesome!!!'.strip('!.,?')\n",
    "print word"
   ]
  },
  {
   "cell_type": "markdown",
   "metadata": {},
   "source": [
    "We’ve lost the original `word`, so this isn’t always the best policy because you might need the orginial word at a later stage in the analysis. You might want to store your original string away some place for safe keeping, or create a new string name, such as `word_processed` that you update with each of your different preprocessing steps.\n",
    "\n",
    "More than one string operation can be included in the same statement, so we could remove the punctuation from the weet with something like:"
   ]
  },
  {
   "cell_type": "code",
   "execution_count": 58,
   "metadata": {
    "collapsed": false
   },
   "outputs": [
    {
     "name": "stdout",
     "output_type": "stream",
     "text": [
      "awesome\n"
     ]
    }
   ],
   "source": [
    "word = 'awesome!!!'\n",
    "word_processed = word.strip('!').lower()\n",
    "print word_processed"
   ]
  },
  {
   "cell_type": "markdown",
   "metadata": {},
   "source": [
    "Combing multiple operations onto one line sometimes can save space and time, but may become convulated, so it sometimes better to split it across different lines."
   ]
  },
  {
   "cell_type": "code",
   "execution_count": 59,
   "metadata": {
    "collapsed": false
   },
   "outputs": [
    {
     "name": "stdout",
     "output_type": "stream",
     "text": [
      "awesome\n"
     ]
    }
   ],
   "source": [
    "word_processed = word.strip('!')\n",
    "word_processed = word_processed.lower()\n",
    "print word_processed"
   ]
  },
  {
   "cell_type": "markdown",
   "metadata": {},
   "source": [
    "The first line creates a new string `word_processed` that holds our original word minus the punctuation. Note that the second line has `word_processed` on both sides of the equal sign. If you kept `word.lower()` on the right hand side you would just be throwing away the punctuation stripping that you did in the first line.\n",
    "\n",
    "One hallmark of Python programming is the creating of lots of small functions. These make your code a lot easier to read and lot easier to debug. For example, we could define a function that strips the punctation from a word and makes it lower case. "
   ]
  },
  {
   "cell_type": "code",
   "execution_count": 26,
   "metadata": {
    "collapsed": true
   },
   "outputs": [],
   "source": [
    "def clean_word(word):\n",
    "    '''\n",
    "    Helper function to process a word. \n",
    "    Strips punctuation.\n",
    "    Lower cases\n",
    "    '''\n",
    "    word = word.lower()\n",
    "    word = word.strip('!\"#$%&\\'()*+,-./:;<=>?@[\\\\]^_`{|}~')\n",
    "    return word"
   ]
  },
  {
   "cell_type": "markdown",
   "metadata": {},
   "source": [
    "On the first line, the `def` begins the function definition. `clean_word` is the somewhat informative title for it and `(word)` defines the input. In this case, it will accept anything and, within the function, reference that input as `word`.  The three sentences between the single quotes are comments to my future self, and any other potential users of the function, about what I'm trying to do. Whatever is on these lines ignored by Python when processing the function. The next two lines are familiar, although I'm striping  significantly more punctiation. Finally, `return` defines what is being sent back. In this case, it is the string `word` after the two transformation. \n",
    "\n",
    "This new function can be used like any other Python function. "
   ]
  },
  {
   "cell_type": "code",
   "execution_count": 71,
   "metadata": {
    "collapsed": false
   },
   "outputs": [
    {
     "data": {
      "text/plain": [
       "'awesome'"
      ]
     },
     "execution_count": 71,
     "metadata": {},
     "output_type": "execute_result"
    }
   ],
   "source": [
    "clean_word('Awesome!!')"
   ]
  },
  {
   "cell_type": "markdown",
   "metadata": {},
   "source": [
    "The results can also be sent back to a new variable."
   ]
  },
  {
   "cell_type": "code",
   "execution_count": 72,
   "metadata": {
    "collapsed": false
   },
   "outputs": [
    {
     "name": "stdout",
     "output_type": "stream",
     "text": [
      "awesome\n"
     ]
    }
   ],
   "source": [
    "cw = clean_word('Awesome!!')\n",
    "print(cw)"
   ]
  },
  {
   "cell_type": "markdown",
   "metadata": {},
   "source": [
    "The loop from above can now be simplified."
   ]
  },
  {
   "cell_type": "code",
   "execution_count": 73,
   "metadata": {
    "collapsed": false
   },
   "outputs": [
    {
     "name": "stdout",
     "output_type": "stream",
     "text": [
      "we\n",
      "have\n",
      "some\n",
      "delightful\n",
      "new\n",
      "food\n",
      "in\n",
      "the\n",
      "cafeteria\n",
      "awesome\n"
     ]
    }
   ],
   "source": [
    "for word in tweet.split():\n",
    "    print(clean_word(word))"
   ]
  },
  {
   "cell_type": "markdown",
   "metadata": {},
   "source": [
    "Since we start with the whole sentence and we are likely to process many of sentences, I created a second function that takes a raw sentence, splits it by word, cleans each word, and then returns a list of cleaned words. "
   ]
  },
  {
   "cell_type": "code",
   "execution_count": 74,
   "metadata": {
    "collapsed": true
   },
   "outputs": [],
   "source": [
    "def clean_sentence(sentence):\n",
    "    '''\n",
    "    Helper function to prepocess a sentence.\n",
    "    Returns a list of cleaned words.\n",
    "    '''\n",
    "    words = sentence.split()\n",
    "    word_list = []\n",
    "    for word in words:\n",
    "        word_list.append(clean_word(word))\n",
    "    return word_list"
   ]
  },
  {
   "cell_type": "markdown",
   "metadata": {},
   "source": [
    "Above, I created an empty list `word_list = []` to store each of the words. One of the advantatges of Python is that you don't have to declare a variable to be of a certain type before you use it, but you do have to define it before you modify it, by, for example, appending something to it."
   ]
  },
  {
   "cell_type": "code",
   "execution_count": 75,
   "metadata": {
    "collapsed": false
   },
   "outputs": [
    {
     "data": {
      "text/plain": [
       "['we',\n",
       " 'have',\n",
       " 'some',\n",
       " 'delightful',\n",
       " 'new',\n",
       " 'food',\n",
       " 'in',\n",
       " 'the',\n",
       " 'cafeteria',\n",
       " 'awesome']"
      ]
     },
     "execution_count": 75,
     "metadata": {},
     "output_type": "execute_result"
    }
   ],
   "source": [
    "clean_sentence(tweet)"
   ]
  },
  {
   "cell_type": "markdown",
   "metadata": {},
   "source": [
    "The function can be made tidier (and faster) by"
   ]
  },
  {
   "cell_type": "code",
   "execution_count": 41,
   "metadata": {
    "collapsed": true
   },
   "outputs": [],
   "source": [
    "def clean_sentence(sentence):\n",
    "    '''\n",
    "    Helper function to prepocess a sentence.\n",
    "    Returns a list of cleaned words.\n",
    "    '''\n",
    "    words = sentence.split()\n",
    "    word_list = [clean_word(word) for word in words]\n",
    "    return word_list"
   ]
  },
  {
   "cell_type": "markdown",
   "metadata": {},
   "source": [
    "Importing Modules\n",
    "=====\n",
    "\n",
    "Python has built-in all the punctuation you need to account for in all cases. You can access them by typing: "
   ]
  },
  {
   "cell_type": "code",
   "execution_count": 60,
   "metadata": {
    "collapsed": false
   },
   "outputs": [
    {
     "name": "stdout",
     "output_type": "stream",
     "text": [
      "!\"#$%&'()*+,-./:;<=>?@[\\]^_`{|}~\n"
     ]
    }
   ],
   "source": [
    "from string import punctuation\n",
    "\n",
    "print punctuation"
   ]
  },
  {
   "cell_type": "markdown",
   "metadata": {},
   "source": [
    "Most of Python’s usefulness isn’t available to you when you start up the program. You need to selectively bring modules into memory. In this case, we are accessing the `string` module, which comes with your Python. Other modules are available either prebuilt or from the internet, and to do anything interesting with natural language processing, you’ll have to download and set some of them up, unless you are using something like the Enthought Python Distribution, which has many useful modules already available.\n",
    "\n",
    "As noted above, `strip()` will remove more than one character, so we can update our loop: "
   ]
  },
  {
   "cell_type": "code",
   "execution_count": 61,
   "metadata": {
    "collapsed": false
   },
   "outputs": [
    {
     "name": "stdout",
     "output_type": "stream",
     "text": [
      "delightful is a positive word\n",
      "Awesome!!! is a positive word\n"
     ]
    }
   ],
   "source": [
    "for word in words:\n",
    "    word_processed = word.lower()\n",
    "    word_processed = word_processed.strip(punctuation)\n",
    "    if word_processed in positive_words:\n",
    "        print word + ' is a positive word'"
   ]
  },
  {
   "cell_type": "markdown",
   "metadata": {},
   "source": [
    "It worked!!!\n",
    "\n"
   ]
  },
  {
   "cell_type": "markdown",
   "metadata": {},
   "source": [
    "Putting it all together\n",
    "----\n",
    "The original quantity of interest was the fraction of positive words in the sentence. That is, the number of positive words divided by the total number of words. We already computed the denominator of the fraction when we computed the length of the string words using the `len` function. One straightforward way to compute the numerator is with a counter that starts at zero and increases by one each time the loop finds a positive word."
   ]
  },
  {
   "cell_type": "code",
   "execution_count": 62,
   "metadata": {
    "collapsed": false
   },
   "outputs": [
    {
     "name": "stdout",
     "output_type": "stream",
     "text": [
      "2\n",
      "0.2\n"
     ]
    }
   ],
   "source": [
    "positive_counter=0\n",
    "for word in words:\n",
    "    word_processed = word.lower()\n",
    "    word_processed = word_processed.strip(punctuation)\n",
    "    if word_processed in positive_words:\n",
    "        positive_counter = positive_counter + 1\n",
    "\n",
    "print positive_counter\n",
    "print positive_counter / len(words)"
   ]
  },
  {
   "cell_type": "markdown",
   "metadata": {},
   "source": [
    "Well, that half worked. The positive counter was what we expected, but 2 divided by 10 should be .2, not 0. Python default for division is to round down to the nearest integer when the all figures involved are whole numbers. While frustrating, it doesn’t actually impact you much because it has an easy fix: importing a different division calculator from the built in `future` module."
   ]
  },
  {
   "cell_type": "code",
   "execution_count": 63,
   "metadata": {
    "collapsed": false
   },
   "outputs": [
    {
     "data": {
      "text/plain": [
       "0.2"
      ]
     },
     "execution_count": 63,
     "metadata": {},
     "output_type": "execute_result"
    }
   ],
   "source": [
    "from __future__ import division\n",
    "positive_counter/len(words)"
   ]
  },
  {
   "cell_type": "markdown",
   "metadata": {},
   "source": [
    "Note that future has two underscores in front of it and two underscores behind it. Like other modules, you only have to import it once. "
   ]
  },
  {
   "cell_type": "markdown",
   "metadata": {},
   "source": [
    "Earlier, we used a pretty nealcaren list of words to measure positive sentiment. While the study in Science used the commercial LIWC dictionary, an alternate sentiment dictionary is produced by Theresa Wilson, Janyce Wiebe, and Paul Hoffmann at the University of Pittsburgh and is freely available. In both cases, the sentiment dictionaries are used in a fairly straightforward way: the more positive words in the text, the higher the text scores on the positive sentiment scale. While this has some drawbacks, the method is quite popular: the LIWC database has over 1,000 cites in Google Scholar, and the Wilson et al. database has more than 600."
   ]
  },
  {
   "cell_type": "markdown",
   "metadata": {},
   "source": [
    "Downloading\n",
    "----\n",
    "\n",
    "Since the Wislon et al. list combines negative and positive polarity words in one list, and includes both words and word stems, I will clean it up a little bit. You can download the positive list and the negative list using your browser, but you don’t have to. Python can do that.\n",
    "\n",
    "First, you need to import one of the modules that Python uses to communicate with the Internet:\n",
    "\n",
    "Since the Wislon et al. list combines negative and positive polarity words in one list, and includes both words and word stems, I will clean it up a little bit. You can download the positive list and the negative list using your browser, but you don’t have to. Python can do that.\n",
    "\n",
    "First, you need to import one of the modules that Python uses to communicate with the Internet:"
   ]
  },
  {
   "cell_type": "code",
   "execution_count": 2,
   "metadata": {
    "collapsed": true
   },
   "outputs": [],
   "source": [
    "import requests"
   ]
  },
  {
   "cell_type": "markdown",
   "metadata": {},
   "source": [
    "Like many commands, Python won’t return anything unless something went wrong. In this case, it should just respond with `>>>` or nothing in a notebook, which means that the module was successfully brought into memory. Next, store the web address that you want to access in a string. You don’t have to do this, but it’s the type of thing that makes your code easier to read and allows you to scale up quickly when you want to download thousands of urls."
   ]
  },
  {
   "cell_type": "code",
   "execution_count": 9,
   "metadata": {
    "collapsed": true
   },
   "outputs": [],
   "source": [
    "url = 'http://www.unc.edu/~ncaren/haphazard/obama_tweets.txt'"
   ]
  },
  {
   "cell_type": "markdown",
   "metadata": {},
   "source": [
    "Next, download the file and store the textin memory."
   ]
  },
  {
   "cell_type": "code",
   "execution_count": 10,
   "metadata": {
    "collapsed": false
   },
   "outputs": [],
   "source": [
    "tweets = requests.get(url).text"
   ]
  },
  {
   "cell_type": "code",
   "execution_count": 13,
   "metadata": {
    "collapsed": false
   },
   "outputs": [
    {
     "data": {
      "text/plain": [
       "u'Obama has called the GOP budget social Darwinism. Nice try, but they believe in social creationism.\\nIn his teen years, Obama has been known to use marijuana and cocaine.\\nIPA Congratulates President Barack Obama for Leadership Regarding JOBS Act: WASHINGTON, Apr 05, 2012 (BUSINESS W... http://t.co/8le3DC8E\\nRT @Professor_Why: #WhatsRomneyHiding - his connection to supporters of Critical Race Theory.... Oh wait, that was Obama, not Romney...\\nRT @wardollarshome: Obama has approved more targeted assassinations than any modern US prez; READ & RT: http://t.co/bfC4gbBW\\nVideo shows federal officials joking about cost of lavish conference http://t.co/2i4SmoPM #obama #crime #p2 #news #tcot #teaparty\\none Chicago kid who says \"Obama is my man\" tells Jesse Watters that the gun violence in Chicago is like \"World War 17\"\\nRT @ohgirlphrase: American kid \"You\\'re from the UK? Ohhh cool, So do you have tea with the Queen?\". British kid: \"Do you like, go to Mcdonalds with Obama?\\nA valid explanation for why '"
      ]
     },
     "execution_count": 13,
     "metadata": {},
     "output_type": "execute_result"
    }
   ],
   "source": [
    "tweets[:1000]"
   ]
  },
  {
   "cell_type": "markdown",
   "metadata": {},
   "source": [
    "Since the file has one Tweet on each line, we can turn it into a list of tweets by splitting it at the end of line character. The file was originally created on a Mac, so the end of line character is an n (think n for new line). On a Windows computer, the end of line character is an rn (think r for return and n for new line). "
   ]
  },
  {
   "cell_type": "code",
   "execution_count": 16,
   "metadata": {
    "collapsed": false
   },
   "outputs": [
    {
     "data": {
      "text/plain": [
       "[u'Obama has called the GOP budget social Darwinism. Nice try, but they believe in social creationism.',\n",
       " u'In his teen years, Obama has been known to use marijuana and cocaine.',\n",
       " u'IPA Congratulates President Barack Obama for Leadership Regarding JOBS Act: WASHINGTON, Apr 05, 2012 (BUSINESS W... http://t.co/8le3DC8E',\n",
       " u'RT @Professor_Why: #WhatsRomneyHiding - his connection to supporters of Critical Race Theory.... Oh wait, that was Obama, not Romney...',\n",
       " u'RT @wardollarshome: Obama has approved more targeted assassinations than any modern US prez; READ & RT: http://t.co/bfC4gbBW']"
      ]
     },
     "execution_count": 16,
     "metadata": {},
     "output_type": "execute_result"
    }
   ],
   "source": [
    "tweets_list = tweets.splitlines()"
   ]
  },
  {
   "cell_type": "markdown",
   "metadata": {},
   "source": [
    "As always, you can check how many items are in the list:"
   ]
  },
  {
   "cell_type": "code",
   "execution_count": 19,
   "metadata": {
    "collapsed": false
   },
   "outputs": [
    {
     "name": "stdout",
     "output_type": "stream",
     "text": [
      "5\n"
     ]
    }
   ],
   "source": [
    "print(len(tweets_list))"
   ]
  },
  {
   "cell_type": "code",
   "execution_count": 18,
   "metadata": {
    "collapsed": false
   },
   "outputs": [
    {
     "name": "stdout",
     "output_type": "stream",
     "text": [
      "[u'Obama has called the GOP budget social Darwinism. Nice try, but they believe in social creationism.', u'In his teen years, Obama has been known to use marijuana and cocaine.', u'IPA Congratulates President Barack Obama for Leadership Regarding JOBS Act: WASHINGTON, Apr 05, 2012 (BUSINESS W... http://t.co/8le3DC8E', u'RT @Professor_Why: #WhatsRomneyHiding - his connection to supporters of Critical Race Theory.... Oh wait, that was Obama, not Romney...', u'RT @wardollarshome: Obama has approved more targeted assassinations than any modern US prez; READ & RT: http://t.co/bfC4gbBW']\n"
     ]
    }
   ],
   "source": [
    "print(tweets_list[:5])"
   ]
  },
  {
   "cell_type": "markdown",
   "metadata": {},
   "source": [
    "Note the new `[0:5]` after  `tweets_list`. This is for selecting a slice of the list. The first number tells Python where to make the first cut in the list. The potentially counterintuitive part is that this number doesn’t reference an actual item in the list, but rather a position between each item in the list–think about where the comma goes when lists are created or printed. Adding to the confusion, the position at the start of the list is 0. So, in this case, we are telling Python we want to slice our list starting before the beginning and continuing until the fifth comma, which is after the fifth item in the list.\n",
    "\n",
    "If you wanted to just print the second item in the list, you could type:"
   ]
  },
  {
   "cell_type": "code",
   "execution_count": 23,
   "metadata": {
    "collapsed": false
   },
   "outputs": [
    {
     "name": "stdout",
     "output_type": "stream",
     "text": [
      "[u'In his teen years, Obama has been known to use marijuana and cocaine.']\n"
     ]
    }
   ],
   "source": [
    "print(tweets_list[1:2])"
   ]
  },
  {
   "cell_type": "markdown",
   "metadata": {},
   "source": [
    "This slices the list from the first comma to the second comma, so the result is a list with just the second item in `tweets_list`. Unless you have a computer science background, this may be confusing as it’s not the common way to think of items in lists.\n",
    "\n",
    "As a shorthand, you can leave out the first number in the pair if you want to start at the very beginning or leave out the last number if you want to go until the end. So, if you want to print out the first five tweets, you could just type `print(tweet_list[:5]). \n",
    "\n",
    "Alternatively, if you wanted the second item, not in a list, you could retrieve it directly:"
   ]
  },
  {
   "cell_type": "code",
   "execution_count": 24,
   "metadata": {
    "collapsed": false
   },
   "outputs": [
    {
     "name": "stdout",
     "output_type": "stream",
     "text": [
      "In his teen years, Obama has been known to use marijuana and cocaine.\n"
     ]
    }
   ],
   "source": [
    "print(tweets_list[1])"
   ]
  },
  {
   "cell_type": "markdown",
   "metadata": {},
   "source": [
    "The first item is index at 0, so the second item is at 1.\n",
    "\n"
   ]
  },
  {
   "cell_type": "code",
   "execution_count": 20,
   "metadata": {
    "collapsed": false
   },
   "outputs": [
    {
     "data": {
      "text/html": [
       "<style>\n",
       "    @font-face {\n",
       "        font-family: \"Computer Modern\";\n",
       "        src: url('http://mirrors.ctan.org/fonts/cm-unicode/fonts/otf/cmunss.otf');\n",
       "    }\n",
       "    div.cell{\n",
       "        width:800px;\n",
       "        margin-left:auto;\n",
       "        margin-right:auto;\n",
       "    }\n",
       "    h1 {\n",
       "        font-family: \"Computer Modern\";\n",
       "        \n",
       "    }\n",
       "    h4{\n",
       "        margin-top:12px;\n",
       "        margin-bottom: 3px;\n",
       "        \n",
       "       }\n",
       "    div.text_cell_render{\n",
       "        font-family: Computer Modern, \"Helvetica Neue\", Arial, Helvetica, Geneva, sans-serif;\n",
       "        line-height: 145%;\n",
       "        font-size: 130%;\n",
       "        width:800px;\n",
       "        margin-left:auto;\n",
       "        margin-right:auto;\n",
       "                color: #413839;\n",
       "\n",
       "    }\n",
       "    .CodeMirror{\n",
       "            font-family: \"Source Code Pro\", source-code-pro,Consolas, monospace;\n",
       "            \n",
       "    }\n",
       "    .prompt{\n",
       "        display: None;\n",
       "    }\n",
       "    .text_cell_render h5 {\n",
       "        font-weight: 300;\n",
       "        font-size: 16pt;\n",
       "        color: #4057A1;\n",
       "        font-style: italic;\n",
       "        margin-bottom: .5em;\n",
       "        margin-top: 0.5em;\n",
       "        display: block;\n",
       "    }\n",
       "\n",
       "    .warning{\n",
       "        color: rgb( 240, 20, 20 )\n",
       "        }\n",
       "\n",
       "</style>\n"
      ],
      "text/plain": [
       "<IPython.core.display.HTML at 0x104cf7d90>"
      ]
     },
     "execution_count": 20,
     "metadata": {},
     "output_type": "execute_result"
    }
   ],
   "source": [
    "from IPython.core.display import HTML\n",
    "def css_styling():\n",
    "    styles = open(\"styles/custom.css\", \"r\").read()\n",
    "    return HTML(styles)\n",
    "css_styling()"
   ]
  }
 ],
 "metadata": {
  "anaconda-cloud": {},
  "kernelspec": {
   "display_name": "Python [default]",
   "language": "python",
   "name": "python2"
  },
  "language_info": {
   "codemirror_mode": {
    "name": "ipython",
    "version": 2
   },
   "file_extension": ".py",
   "mimetype": "text/x-python",
   "name": "python",
   "nbconvert_exporter": "python",
   "pygments_lexer": "ipython2",
   "version": "2.7.12"
  }
 },
 "nbformat": 4,
 "nbformat_minor": 0
}
