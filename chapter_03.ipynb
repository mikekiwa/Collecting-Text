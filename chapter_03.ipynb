{
 "cells": [
  {
   "cell_type": "markdown",
   "metadata": {},
   "source": [
    "# Chapter 3: Working with APIs"
   ]
  },
  {
   "cell_type": "markdown",
   "metadata": {},
   "source": [
    "[Overview of what APIs are]"
   ]
  },
  {
   "cell_type": "markdown",
   "metadata": {},
   "source": [
    "[Chronicling America](http://chroniclingamerica.loc.gov/about/) is a joint project of the National Endowment for the Humanities and the Library of Congress that [More description.\n",
    "\n",
    "The website has a search function and my search for the term \"[slavery](http://chroniclingamerica.loc.gov/search/pages/results/?andtext=slavery)\" returned 404,325 results.\n",
    "\n",
    "<img src=\"images/ca_slavery_search.png\">\n",
    "\n",
    "This is great, but they make it much better for researchers by providing an API to assist with searching and downloading their archive. [Note about bulk downloads.]\n",
    "\n",
    "One of the nice things about APIs is that they are often intuitive, or at least interpretable after you see them. For example, to retrieve the first page of search results into an easily digestable format, you append ``&format=json`` to the end of the search URL ``http://chroniclingamerica.loc.gov/search/pages/results/?andtext=slavery``. In your browser, this returns a text file in the JSON format.\n",
    "\n",
    "<img src=\"images/ca_slavery_api.png\">\n",
    "\n",
    "Thankfully, the programers have made the variable names understandable. As before, the search found 404,325 results (``\"totalItems\": 404325,``). The server did not return all of these, however, just 20 of them (``\"itemsPerPage\": 20``), starting with the first result (``\"startIndex\": 1,``) and ending with the 20th (``\"endIndex\": 20,``). \n",
    "\n",
    "\n",
    "http://chroniclingamerica.loc.gov/search/pages/results/?andtext=slavery&format=json\n",
    "\n",
    "\n",
    "(http://chroniclingamerica.loc.gov/about/api/)"
   ]
  },
  {
   "cell_type": "markdown",
   "metadata": {},
   "source": [
    "[``requests``](http://docs.python-requests.org/en/master/) is a useful and commonly used HTTP library for python. It is not a part of the default installation, but is included with Anaconda Python Distribution. "
   ]
  },
  {
   "cell_type": "code",
   "execution_count": 1,
   "metadata": {
    "collapsed": false
   },
   "outputs": [],
   "source": [
    "import requests"
   ]
  },
  {
   "cell_type": "markdown",
   "metadata": {},
   "source": [
    "It would be possible to use the API URL and parameters directly in the requests command, but since the most likely scenario involves making repeating calls to ``requests`` as part of a loop -- the search returned less than 1% of the results -- I store the strings first. "
   ]
  },
  {
   "cell_type": "code",
   "execution_count": 2,
   "metadata": {
    "collapsed": false
   },
   "outputs": [],
   "source": [
    "base_url = 'http://chroniclingamerica.loc.gov/search/pages/results/'\n",
    "parameters = '?andtext=slavery&format=json'"
   ]
  },
  {
   "cell_type": "markdown",
   "metadata": {},
   "source": [
    "`requests.get()` is used for both accessing websites and APIs. The command can be modified by several arguements, but at a minimum, it requires the URL."
   ]
  },
  {
   "cell_type": "code",
   "execution_count": 3,
   "metadata": {
    "collapsed": true
   },
   "outputs": [],
   "source": [
    "r = requests.get(base_url + parameters)"
   ]
  },
  {
   "cell_type": "markdown",
   "metadata": {},
   "source": [
    "`r` is a `requests` response object. Any JSON returned by the server are stored in `.json().`"
   ]
  },
  {
   "cell_type": "code",
   "execution_count": 4,
   "metadata": {
    "collapsed": false
   },
   "outputs": [],
   "source": [
    "search_json = r.json()"
   ]
  },
  {
   "cell_type": "markdown",
   "metadata": {},
   "source": [
    "JSONs are dictionary like objects, in that they have keys (think variable names) and values. `.keys()` returns a list of the keys."
   ]
  },
  {
   "cell_type": "code",
   "execution_count": 5,
   "metadata": {
    "collapsed": false
   },
   "outputs": [
    {
     "name": "stdout",
     "output_type": "stream",
     "text": [
      "[u'totalItems', u'endIndex', u'startIndex', u'itemsPerPage', u'items']\n"
     ]
    }
   ],
   "source": [
    "print search_json.keys()"
   ]
  },
  {
   "cell_type": "markdown",
   "metadata": {},
   "source": [
    "You can return the value of any key by putting the key name in brackets."
   ]
  },
  {
   "cell_type": "code",
   "execution_count": 6,
   "metadata": {
    "collapsed": false
   },
   "outputs": [
    {
     "data": {
      "text/plain": [
       "404325"
      ]
     },
     "execution_count": 6,
     "metadata": {},
     "output_type": "execute_result"
    }
   ],
   "source": [
    "search_json['totalItems']"
   ]
  },
  {
   "cell_type": "markdown",
   "metadata": {},
   "source": [
    "As is often the case with results from an API, most of the keys and values are metadate about either the search or what is being returned. These are useful for knowing if the search is returning what you want, which is particularly important when you are making multiple calls to the API. \n",
    "\n",
    "The data I'm intereted in is all in `items`. "
   ]
  },
  {
   "cell_type": "code",
   "execution_count": 7,
   "metadata": {
    "collapsed": false
   },
   "outputs": [
    {
     "name": "stdout",
     "output_type": "stream",
     "text": [
      "<type 'list'>\n",
      "20\n"
     ]
    }
   ],
   "source": [
    "print type(search_json['items'])\n",
    "print len(search_json['items'])"
   ]
  },
  {
   "cell_type": "markdown",
   "metadata": {},
   "source": [
    "`items` is a list with 20 items."
   ]
  },
  {
   "cell_type": "code",
   "execution_count": 8,
   "metadata": {
    "collapsed": false
   },
   "outputs": [
    {
     "name": "stdout",
     "output_type": "stream",
     "text": [
      "<type 'dict'>\n",
      "<type 'dict'>\n"
     ]
    }
   ],
   "source": [
    "print type(search_json['items'][0])\n",
    "print type(search_json['items'][19])"
   ]
  },
  {
   "cell_type": "markdown",
   "metadata": {},
   "source": [
    "Each of the 20 items in the list is a dictionary. "
   ]
  },
  {
   "cell_type": "code",
   "execution_count": 9,
   "metadata": {
    "collapsed": false
   },
   "outputs": [
    {
     "name": "stdout",
     "output_type": "stream",
     "text": [
      "[u'sequence', u'county', u'edition', u'frequency', u'id', u'section_label', u'city', u'date', u'title', u'end_year', u'note', u'state', u'subject', u'type', u'place_of_publication', u'start_year', u'edition_label', u'publisher', u'language', u'alt_title', u'lccn', u'country', u'ocr_eng', u'batch', u'title_normal', u'url', u'place', u'page']\n"
     ]
    }
   ],
   "source": [
    "first_item = search_json['items'][0]\n",
    "\n",
    "print first_item.keys()"
   ]
  },
  {
   "cell_type": "markdown",
   "metadata": {},
   "source": [
    "While a standard CSV file has a header row that describes the contents of each column, a JSON file has keys identifying the values found in each case. Importantly, these keys need not be the same for each item. Additionally, values don't have to be numbers of strings, but could be lists or dictionaries. For example, this JSON could have included a `newspaper` key that was a dictionary with all the metadata about the newspaper the article and issue was published, an `article` key that include the article specific information as another dictionary, and a `text` key whose value was a string with the article text.\n",
    "\n",
    "As before, we can examine the contents of a particular item, such as the publication's `title`."
   ]
  },
  {
   "cell_type": "code",
   "execution_count": 10,
   "metadata": {
    "collapsed": false
   },
   "outputs": [
    {
     "name": "stdout",
     "output_type": "stream",
     "text": [
      "Anti-slavery bugle. volume\n"
     ]
    }
   ],
   "source": [
    "print first_item['title']"
   ]
  },
  {
   "cell_type": "markdown",
   "metadata": {},
   "source": [
    "The easiest way to view or analyze this data is to convert it to a dataset-like structure. While Python does not have a builting in dataframe type, the popular `pandas` library does. By convention, it is imported as `pd`."
   ]
  },
  {
   "cell_type": "code",
   "execution_count": 11,
   "metadata": {
    "collapsed": false
   },
   "outputs": [],
   "source": [
    "import pandas as pd\n",
    "\n",
    "# Make sure all columns are displayed\n",
    "pd.set_option(\"display.max_columns\",101)"
   ]
  },
  {
   "cell_type": "markdown",
   "metadata": {},
   "source": [
    "pandas is prety smart about importing different JSON-type objects and converting them to dataframes with its `.DataFrame()` function."
   ]
  },
  {
   "cell_type": "code",
   "execution_count": 12,
   "metadata": {
    "collapsed": false
   },
   "outputs": [
    {
     "data": {
      "text/html": [
       "<div>\n",
       "<table border=\"1\" class=\"dataframe\">\n",
       "  <thead>\n",
       "    <tr style=\"text-align: right;\">\n",
       "      <th></th>\n",
       "      <th>alt_title</th>\n",
       "      <th>batch</th>\n",
       "      <th>city</th>\n",
       "      <th>country</th>\n",
       "      <th>county</th>\n",
       "      <th>date</th>\n",
       "      <th>edition</th>\n",
       "      <th>edition_label</th>\n",
       "      <th>end_year</th>\n",
       "      <th>frequency</th>\n",
       "      <th>id</th>\n",
       "      <th>language</th>\n",
       "      <th>lccn</th>\n",
       "      <th>note</th>\n",
       "      <th>ocr_eng</th>\n",
       "      <th>page</th>\n",
       "      <th>place</th>\n",
       "      <th>place_of_publication</th>\n",
       "      <th>publisher</th>\n",
       "      <th>section_label</th>\n",
       "      <th>sequence</th>\n",
       "      <th>start_year</th>\n",
       "      <th>state</th>\n",
       "      <th>subject</th>\n",
       "      <th>title</th>\n",
       "      <th>title_normal</th>\n",
       "      <th>type</th>\n",
       "      <th>url</th>\n",
       "    </tr>\n",
       "  </thead>\n",
       "  <tbody>\n",
       "    <tr>\n",
       "      <th>0</th>\n",
       "      <td>[]</td>\n",
       "      <td>batch_ohi_ariel_ver02</td>\n",
       "      <td>[New Lisbon, Salem]</td>\n",
       "      <td>Ohio</td>\n",
       "      <td>[Columbiana, Columbiana]</td>\n",
       "      <td>18490316</td>\n",
       "      <td>None</td>\n",
       "      <td></td>\n",
       "      <td>1861</td>\n",
       "      <td>Weekly</td>\n",
       "      <td>/lccn/sn83035487/1849-03-16/ed-1/seq-1/</td>\n",
       "      <td>[English]</td>\n",
       "      <td>sn83035487</td>\n",
       "      <td>[Archived issues are available in digital form...</td>\n",
       "      <td>LAVE\\nam\\nJlile\\nVOL. 4. NO. 30.\\nSALEM. OHIO,...</td>\n",
       "      <td></td>\n",
       "      <td>[Ohio--Columbiana--New Lisbon, Ohio--Columbian...</td>\n",
       "      <td>New-Lisbon, Ohio</td>\n",
       "      <td>Ohio American Antislavery Society</td>\n",
       "      <td></td>\n",
       "      <td>1</td>\n",
       "      <td>1845</td>\n",
       "      <td>[Ohio, Ohio]</td>\n",
       "      <td>[Antislavery movements--United States--Newspap...</td>\n",
       "      <td>Anti-slavery bugle. volume</td>\n",
       "      <td>anti-slavery bugle.</td>\n",
       "      <td>page</td>\n",
       "      <td>http://chroniclingamerica.loc.gov/lccn/sn83035...</td>\n",
       "    </tr>\n",
       "    <tr>\n",
       "      <th>1</th>\n",
       "      <td>[]</td>\n",
       "      <td>batch_iune_golf_ver01</td>\n",
       "      <td>[Chicago]</td>\n",
       "      <td>Illinois</td>\n",
       "      <td>[Cook County]</td>\n",
       "      <td>19140516</td>\n",
       "      <td>None</td>\n",
       "      <td>NOON EDITION</td>\n",
       "      <td>1917</td>\n",
       "      <td>Daily (except Sunday and holidays)</td>\n",
       "      <td>/lccn/sn83045487/1914-05-16/ed-1/seq-10/</td>\n",
       "      <td>[English]</td>\n",
       "      <td>sn83045487</td>\n",
       "      <td>[\"An adless daily newspaper.\", Archived issues...</td>\n",
       "      <td>r\\nmmmmmmmmmmmmmmmmmmmmmmmm\\n'SLAVERY RIFE IN ...</td>\n",
       "      <td></td>\n",
       "      <td>[Illinois--Cook County--Chicago]</td>\n",
       "      <td>Chicago, Ill.</td>\n",
       "      <td>N.D. Cochran</td>\n",
       "      <td></td>\n",
       "      <td>10</td>\n",
       "      <td>1911</td>\n",
       "      <td>[Illinois]</td>\n",
       "      <td>[Chicago (Ill.)--Newspapers., Illinois--Chicag...</td>\n",
       "      <td>The day book.</td>\n",
       "      <td>day book.</td>\n",
       "      <td>page</td>\n",
       "      <td>http://chroniclingamerica.loc.gov/lccn/sn83045...</td>\n",
       "    </tr>\n",
       "    <tr>\n",
       "      <th>2</th>\n",
       "      <td>[]</td>\n",
       "      <td>batch_iune_india_ver01</td>\n",
       "      <td>[Chicago]</td>\n",
       "      <td>Illinois</td>\n",
       "      <td>[Cook County]</td>\n",
       "      <td>19161109</td>\n",
       "      <td>None</td>\n",
       "      <td>EXTRA</td>\n",
       "      <td>1917</td>\n",
       "      <td>Daily (except Sunday and holidays)</td>\n",
       "      <td>/lccn/sn83045487/1916-11-09/ed-1/seq-26/</td>\n",
       "      <td>[English]</td>\n",
       "      <td>sn83045487</td>\n",
       "      <td>[\"An adless daily newspaper.\", Archived issues...</td>\n",
       "      <td>us remaining whites if we expect to\\nstay on t...</td>\n",
       "      <td></td>\n",
       "      <td>[Illinois--Cook County--Chicago]</td>\n",
       "      <td>Chicago, Ill.</td>\n",
       "      <td>N.D. Cochran</td>\n",
       "      <td></td>\n",
       "      <td>26</td>\n",
       "      <td>1911</td>\n",
       "      <td>[Illinois]</td>\n",
       "      <td>[Chicago (Ill.)--Newspapers., Illinois--Chicag...</td>\n",
       "      <td>The day book.</td>\n",
       "      <td>day book.</td>\n",
       "      <td>page</td>\n",
       "      <td>http://chroniclingamerica.loc.gov/lccn/sn83045...</td>\n",
       "    </tr>\n",
       "    <tr>\n",
       "      <th>3</th>\n",
       "      <td>[]</td>\n",
       "      <td>batch_iune_golf_ver01</td>\n",
       "      <td>[Chicago]</td>\n",
       "      <td>Illinois</td>\n",
       "      <td>[Cook County]</td>\n",
       "      <td>19150327</td>\n",
       "      <td>None</td>\n",
       "      <td>NOON EDITION</td>\n",
       "      <td>1917</td>\n",
       "      <td>Daily (except Sunday and holidays)</td>\n",
       "      <td>/lccn/sn83045487/1915-03-27/ed-1/seq-24/</td>\n",
       "      <td>[English]</td>\n",
       "      <td>sn83045487</td>\n",
       "      <td>[\"An adless daily newspaper.\", Archived issues...</td>\n",
       "      <td>THOUSANDS OF VEILED WOMEN OF TURKISH\\nHAREM ON...</td>\n",
       "      <td></td>\n",
       "      <td>[Illinois--Cook County--Chicago]</td>\n",
       "      <td>Chicago, Ill.</td>\n",
       "      <td>N.D. Cochran</td>\n",
       "      <td></td>\n",
       "      <td>24</td>\n",
       "      <td>1911</td>\n",
       "      <td>[Illinois]</td>\n",
       "      <td>[Chicago (Ill.)--Newspapers., Illinois--Chicag...</td>\n",
       "      <td>The day book.</td>\n",
       "      <td>day book.</td>\n",
       "      <td>page</td>\n",
       "      <td>http://chroniclingamerica.loc.gov/lccn/sn83045...</td>\n",
       "    </tr>\n",
       "    <tr>\n",
       "      <th>4</th>\n",
       "      <td>[]</td>\n",
       "      <td>batch_iune_foxtrot_ver01</td>\n",
       "      <td>[Chicago]</td>\n",
       "      <td>Illinois</td>\n",
       "      <td>[Cook County]</td>\n",
       "      <td>19130815</td>\n",
       "      <td>None</td>\n",
       "      <td></td>\n",
       "      <td>1917</td>\n",
       "      <td>Daily (except Sunday and holidays)</td>\n",
       "      <td>/lccn/sn83045487/1913-08-15/ed-1/seq-5/</td>\n",
       "      <td>[English]</td>\n",
       "      <td>sn83045487</td>\n",
       "      <td>[\"An adless daily newspaper.\", Archived issues...</td>\n",
       "      <td>LOLA NORRiajQlVS SiENSAT-iPN AL t EVIDENCE IN ...</td>\n",
       "      <td></td>\n",
       "      <td>[Illinois--Cook County--Chicago]</td>\n",
       "      <td>Chicago, Ill.</td>\n",
       "      <td>N.D. Cochran</td>\n",
       "      <td></td>\n",
       "      <td>5</td>\n",
       "      <td>1911</td>\n",
       "      <td>[Illinois]</td>\n",
       "      <td>[Chicago (Ill.)--Newspapers., Illinois--Chicag...</td>\n",
       "      <td>The day book.</td>\n",
       "      <td>day book.</td>\n",
       "      <td>page</td>\n",
       "      <td>http://chroniclingamerica.loc.gov/lccn/sn83045...</td>\n",
       "    </tr>\n",
       "    <tr>\n",
       "      <th>5</th>\n",
       "      <td>[]</td>\n",
       "      <td>batch_iune_foxtrot_ver01</td>\n",
       "      <td>[Chicago]</td>\n",
       "      <td>Illinois</td>\n",
       "      <td>[Cook County]</td>\n",
       "      <td>19130308</td>\n",
       "      <td>None</td>\n",
       "      <td>NOON EDITION</td>\n",
       "      <td>1917</td>\n",
       "      <td>Daily (except Sunday and holidays)</td>\n",
       "      <td>/lccn/sn83045487/1913-03-08/ed-1/seq-6/</td>\n",
       "      <td>[English]</td>\n",
       "      <td>sn83045487</td>\n",
       "      <td>[\"An adless daily newspaper.\", Archived issues...</td>\n",
       "      <td>that every possible weakness in. a\\ngirl as &amp;e...</td>\n",
       "      <td></td>\n",
       "      <td>[Illinois--Cook County--Chicago]</td>\n",
       "      <td>Chicago, Ill.</td>\n",
       "      <td>N.D. Cochran</td>\n",
       "      <td></td>\n",
       "      <td>6</td>\n",
       "      <td>1911</td>\n",
       "      <td>[Illinois]</td>\n",
       "      <td>[Chicago (Ill.)--Newspapers., Illinois--Chicag...</td>\n",
       "      <td>The day book.</td>\n",
       "      <td>day book.</td>\n",
       "      <td>page</td>\n",
       "      <td>http://chroniclingamerica.loc.gov/lccn/sn83045...</td>\n",
       "    </tr>\n",
       "    <tr>\n",
       "      <th>6</th>\n",
       "      <td>[]</td>\n",
       "      <td>batch_iune_foxtrot_ver01</td>\n",
       "      <td>[Chicago]</td>\n",
       "      <td>Illinois</td>\n",
       "      <td>[Cook County]</td>\n",
       "      <td>19130424</td>\n",
       "      <td>None</td>\n",
       "      <td></td>\n",
       "      <td>1917</td>\n",
       "      <td>Daily (except Sunday and holidays)</td>\n",
       "      <td>/lccn/sn83045487/1913-04-24/ed-1/seq-13/</td>\n",
       "      <td>[English]</td>\n",
       "      <td>sn83045487</td>\n",
       "      <td>[\"An adless daily newspaper.\", Archived issues...</td>\n",
       "      <td>mpICFED FOR WHITE -SLAVERY.\\nTop Lola Norris-a...</td>\n",
       "      <td></td>\n",
       "      <td>[Illinois--Cook County--Chicago]</td>\n",
       "      <td>Chicago, Ill.</td>\n",
       "      <td>N.D. Cochran</td>\n",
       "      <td></td>\n",
       "      <td>13</td>\n",
       "      <td>1911</td>\n",
       "      <td>[Illinois]</td>\n",
       "      <td>[Chicago (Ill.)--Newspapers., Illinois--Chicag...</td>\n",
       "      <td>The day book.</td>\n",
       "      <td>day book.</td>\n",
       "      <td>page</td>\n",
       "      <td>http://chroniclingamerica.loc.gov/lccn/sn83045...</td>\n",
       "    </tr>\n",
       "    <tr>\n",
       "      <th>7</th>\n",
       "      <td>[]</td>\n",
       "      <td>batch_dlc_elf_ver03</td>\n",
       "      <td>[Washington]</td>\n",
       "      <td>District of Columbia</td>\n",
       "      <td>[None]</td>\n",
       "      <td>18540511</td>\n",
       "      <td>None</td>\n",
       "      <td></td>\n",
       "      <td>1860</td>\n",
       "      <td>Weekly</td>\n",
       "      <td>/lccn/sn84026752/1854-05-11/ed-1/seq-1/</td>\n",
       "      <td>[English]</td>\n",
       "      <td>sn84026752</td>\n",
       "      <td>[Also issued on microfilm by University Microf...</td>\n",
       "      <td>I IiiLMI or SUBSCRimOM\\nI T. \\ .. &amp;m is publis...</td>\n",
       "      <td></td>\n",
       "      <td>[District of Columbia--Washington]</td>\n",
       "      <td>Washington [D.C.]</td>\n",
       "      <td>L.P. Noble</td>\n",
       "      <td></td>\n",
       "      <td>1</td>\n",
       "      <td>1847</td>\n",
       "      <td>[District of Columbia]</td>\n",
       "      <td>[African Americans--Washington (D.C.)--Newspap...</td>\n",
       "      <td>The national era.</td>\n",
       "      <td>national era.</td>\n",
       "      <td>page</td>\n",
       "      <td>http://chroniclingamerica.loc.gov/lccn/sn84026...</td>\n",
       "    </tr>\n",
       "    <tr>\n",
       "      <th>8</th>\n",
       "      <td>[]</td>\n",
       "      <td>batch_iune_foxtrot_ver01</td>\n",
       "      <td>[Chicago]</td>\n",
       "      <td>Illinois</td>\n",
       "      <td>[Cook County]</td>\n",
       "      <td>19130225</td>\n",
       "      <td>None</td>\n",
       "      <td></td>\n",
       "      <td>1917</td>\n",
       "      <td>Daily (except Sunday and holidays)</td>\n",
       "      <td>/lccn/sn83045487/1913-02-25/ed-1/seq-30/</td>\n",
       "      <td>[English]</td>\n",
       "      <td>sn83045487</td>\n",
       "      <td>[\"An adless daily newspaper.\", Archived issues...</td>\n",
       "      <td>we are doing what the American\\nmen did Avay b...</td>\n",
       "      <td></td>\n",
       "      <td>[Illinois--Cook County--Chicago]</td>\n",
       "      <td>Chicago, Ill.</td>\n",
       "      <td>N.D. Cochran</td>\n",
       "      <td></td>\n",
       "      <td>30</td>\n",
       "      <td>1911</td>\n",
       "      <td>[Illinois]</td>\n",
       "      <td>[Chicago (Ill.)--Newspapers., Illinois--Chicag...</td>\n",
       "      <td>The day book.</td>\n",
       "      <td>day book.</td>\n",
       "      <td>page</td>\n",
       "      <td>http://chroniclingamerica.loc.gov/lccn/sn83045...</td>\n",
       "    </tr>\n",
       "    <tr>\n",
       "      <th>9</th>\n",
       "      <td>[]</td>\n",
       "      <td>batch_dlc_elf_ver03</td>\n",
       "      <td>[Washington]</td>\n",
       "      <td>District of Columbia</td>\n",
       "      <td>[None]</td>\n",
       "      <td>18540511</td>\n",
       "      <td>None</td>\n",
       "      <td></td>\n",
       "      <td>1860</td>\n",
       "      <td>Weekly</td>\n",
       "      <td>/lccn/sn84026752/1854-05-11/ed-1/seq-4/</td>\n",
       "      <td>[English]</td>\n",
       "      <td>sn84026752</td>\n",
       "      <td>[Also issued on microfilm by University Microf...</td>\n",
       "      <td>f\\nI 76\\n[COXTIHCED PBOM KIMT PAGE.]\\nour fath...</td>\n",
       "      <td>76</td>\n",
       "      <td>[District of Columbia--Washington]</td>\n",
       "      <td>Washington [D.C.]</td>\n",
       "      <td>L.P. Noble</td>\n",
       "      <td></td>\n",
       "      <td>4</td>\n",
       "      <td>1847</td>\n",
       "      <td>[District of Columbia]</td>\n",
       "      <td>[African Americans--Washington (D.C.)--Newspap...</td>\n",
       "      <td>The national era.</td>\n",
       "      <td>national era.</td>\n",
       "      <td>page</td>\n",
       "      <td>http://chroniclingamerica.loc.gov/lccn/sn84026...</td>\n",
       "    </tr>\n",
       "  </tbody>\n",
       "</table>\n",
       "</div>"
      ],
      "text/plain": [
       "  alt_title                     batch                 city  \\\n",
       "0        []     batch_ohi_ariel_ver02  [New Lisbon, Salem]   \n",
       "1        []     batch_iune_golf_ver01            [Chicago]   \n",
       "2        []    batch_iune_india_ver01            [Chicago]   \n",
       "3        []     batch_iune_golf_ver01            [Chicago]   \n",
       "4        []  batch_iune_foxtrot_ver01            [Chicago]   \n",
       "5        []  batch_iune_foxtrot_ver01            [Chicago]   \n",
       "6        []  batch_iune_foxtrot_ver01            [Chicago]   \n",
       "7        []       batch_dlc_elf_ver03         [Washington]   \n",
       "8        []  batch_iune_foxtrot_ver01            [Chicago]   \n",
       "9        []       batch_dlc_elf_ver03         [Washington]   \n",
       "\n",
       "                country                    county      date edition  \\\n",
       "0                  Ohio  [Columbiana, Columbiana]  18490316    None   \n",
       "1              Illinois             [Cook County]  19140516    None   \n",
       "2              Illinois             [Cook County]  19161109    None   \n",
       "3              Illinois             [Cook County]  19150327    None   \n",
       "4              Illinois             [Cook County]  19130815    None   \n",
       "5              Illinois             [Cook County]  19130308    None   \n",
       "6              Illinois             [Cook County]  19130424    None   \n",
       "7  District of Columbia                    [None]  18540511    None   \n",
       "8              Illinois             [Cook County]  19130225    None   \n",
       "9  District of Columbia                    [None]  18540511    None   \n",
       "\n",
       "  edition_label  end_year                           frequency  \\\n",
       "0                    1861                              Weekly   \n",
       "1  NOON EDITION      1917  Daily (except Sunday and holidays)   \n",
       "2         EXTRA      1917  Daily (except Sunday and holidays)   \n",
       "3  NOON EDITION      1917  Daily (except Sunday and holidays)   \n",
       "4                    1917  Daily (except Sunday and holidays)   \n",
       "5  NOON EDITION      1917  Daily (except Sunday and holidays)   \n",
       "6                    1917  Daily (except Sunday and holidays)   \n",
       "7                    1860                              Weekly   \n",
       "8                    1917  Daily (except Sunday and holidays)   \n",
       "9                    1860                              Weekly   \n",
       "\n",
       "                                         id   language        lccn  \\\n",
       "0   /lccn/sn83035487/1849-03-16/ed-1/seq-1/  [English]  sn83035487   \n",
       "1  /lccn/sn83045487/1914-05-16/ed-1/seq-10/  [English]  sn83045487   \n",
       "2  /lccn/sn83045487/1916-11-09/ed-1/seq-26/  [English]  sn83045487   \n",
       "3  /lccn/sn83045487/1915-03-27/ed-1/seq-24/  [English]  sn83045487   \n",
       "4   /lccn/sn83045487/1913-08-15/ed-1/seq-5/  [English]  sn83045487   \n",
       "5   /lccn/sn83045487/1913-03-08/ed-1/seq-6/  [English]  sn83045487   \n",
       "6  /lccn/sn83045487/1913-04-24/ed-1/seq-13/  [English]  sn83045487   \n",
       "7   /lccn/sn84026752/1854-05-11/ed-1/seq-1/  [English]  sn84026752   \n",
       "8  /lccn/sn83045487/1913-02-25/ed-1/seq-30/  [English]  sn83045487   \n",
       "9   /lccn/sn84026752/1854-05-11/ed-1/seq-4/  [English]  sn84026752   \n",
       "\n",
       "                                                note  \\\n",
       "0  [Archived issues are available in digital form...   \n",
       "1  [\"An adless daily newspaper.\", Archived issues...   \n",
       "2  [\"An adless daily newspaper.\", Archived issues...   \n",
       "3  [\"An adless daily newspaper.\", Archived issues...   \n",
       "4  [\"An adless daily newspaper.\", Archived issues...   \n",
       "5  [\"An adless daily newspaper.\", Archived issues...   \n",
       "6  [\"An adless daily newspaper.\", Archived issues...   \n",
       "7  [Also issued on microfilm by University Microf...   \n",
       "8  [\"An adless daily newspaper.\", Archived issues...   \n",
       "9  [Also issued on microfilm by University Microf...   \n",
       "\n",
       "                                             ocr_eng page  \\\n",
       "0  LAVE\\nam\\nJlile\\nVOL. 4. NO. 30.\\nSALEM. OHIO,...        \n",
       "1  r\\nmmmmmmmmmmmmmmmmmmmmmmmm\\n'SLAVERY RIFE IN ...        \n",
       "2  us remaining whites if we expect to\\nstay on t...        \n",
       "3  THOUSANDS OF VEILED WOMEN OF TURKISH\\nHAREM ON...        \n",
       "4  LOLA NORRiajQlVS SiENSAT-iPN AL t EVIDENCE IN ...        \n",
       "5  that every possible weakness in. a\\ngirl as &e...        \n",
       "6  mpICFED FOR WHITE -SLAVERY.\\nTop Lola Norris-a...        \n",
       "7  I IiiLMI or SUBSCRimOM\\nI T. \\ .. &m is publis...        \n",
       "8  we are doing what the American\\nmen did Avay b...        \n",
       "9  f\\nI 76\\n[COXTIHCED PBOM KIMT PAGE.]\\nour fath...   76   \n",
       "\n",
       "                                               place place_of_publication  \\\n",
       "0  [Ohio--Columbiana--New Lisbon, Ohio--Columbian...     New-Lisbon, Ohio   \n",
       "1                   [Illinois--Cook County--Chicago]        Chicago, Ill.   \n",
       "2                   [Illinois--Cook County--Chicago]        Chicago, Ill.   \n",
       "3                   [Illinois--Cook County--Chicago]        Chicago, Ill.   \n",
       "4                   [Illinois--Cook County--Chicago]        Chicago, Ill.   \n",
       "5                   [Illinois--Cook County--Chicago]        Chicago, Ill.   \n",
       "6                   [Illinois--Cook County--Chicago]        Chicago, Ill.   \n",
       "7                 [District of Columbia--Washington]    Washington [D.C.]   \n",
       "8                   [Illinois--Cook County--Chicago]        Chicago, Ill.   \n",
       "9                 [District of Columbia--Washington]    Washington [D.C.]   \n",
       "\n",
       "                           publisher section_label  sequence  start_year  \\\n",
       "0  Ohio American Antislavery Society                       1        1845   \n",
       "1                       N.D. Cochran                      10        1911   \n",
       "2                       N.D. Cochran                      26        1911   \n",
       "3                       N.D. Cochran                      24        1911   \n",
       "4                       N.D. Cochran                       5        1911   \n",
       "5                       N.D. Cochran                       6        1911   \n",
       "6                       N.D. Cochran                      13        1911   \n",
       "7                         L.P. Noble                       1        1847   \n",
       "8                       N.D. Cochran                      30        1911   \n",
       "9                         L.P. Noble                       4        1847   \n",
       "\n",
       "                    state                                            subject  \\\n",
       "0            [Ohio, Ohio]  [Antislavery movements--United States--Newspap...   \n",
       "1              [Illinois]  [Chicago (Ill.)--Newspapers., Illinois--Chicag...   \n",
       "2              [Illinois]  [Chicago (Ill.)--Newspapers., Illinois--Chicag...   \n",
       "3              [Illinois]  [Chicago (Ill.)--Newspapers., Illinois--Chicag...   \n",
       "4              [Illinois]  [Chicago (Ill.)--Newspapers., Illinois--Chicag...   \n",
       "5              [Illinois]  [Chicago (Ill.)--Newspapers., Illinois--Chicag...   \n",
       "6              [Illinois]  [Chicago (Ill.)--Newspapers., Illinois--Chicag...   \n",
       "7  [District of Columbia]  [African Americans--Washington (D.C.)--Newspap...   \n",
       "8              [Illinois]  [Chicago (Ill.)--Newspapers., Illinois--Chicag...   \n",
       "9  [District of Columbia]  [African Americans--Washington (D.C.)--Newspap...   \n",
       "\n",
       "                        title         title_normal  type  \\\n",
       "0  Anti-slavery bugle. volume  anti-slavery bugle.  page   \n",
       "1               The day book.            day book.  page   \n",
       "2               The day book.            day book.  page   \n",
       "3               The day book.            day book.  page   \n",
       "4               The day book.            day book.  page   \n",
       "5               The day book.            day book.  page   \n",
       "6               The day book.            day book.  page   \n",
       "7           The national era.        national era.  page   \n",
       "8               The day book.            day book.  page   \n",
       "9           The national era.        national era.  page   \n",
       "\n",
       "                                                 url  \n",
       "0  http://chroniclingamerica.loc.gov/lccn/sn83035...  \n",
       "1  http://chroniclingamerica.loc.gov/lccn/sn83045...  \n",
       "2  http://chroniclingamerica.loc.gov/lccn/sn83045...  \n",
       "3  http://chroniclingamerica.loc.gov/lccn/sn83045...  \n",
       "4  http://chroniclingamerica.loc.gov/lccn/sn83045...  \n",
       "5  http://chroniclingamerica.loc.gov/lccn/sn83045...  \n",
       "6  http://chroniclingamerica.loc.gov/lccn/sn83045...  \n",
       "7  http://chroniclingamerica.loc.gov/lccn/sn84026...  \n",
       "8  http://chroniclingamerica.loc.gov/lccn/sn83045...  \n",
       "9  http://chroniclingamerica.loc.gov/lccn/sn84026...  "
      ]
     },
     "execution_count": 12,
     "metadata": {},
     "output_type": "execute_result"
    }
   ],
   "source": [
    "df = pd.DataFrame(search_json['items'])\n",
    "\n",
    "df.head(10)"
   ]
  },
  {
   "cell_type": "markdown",
   "metadata": {},
   "source": [
    "Note that I converted `search_json['items']` to  dataframe and not the entire JSON file. This is because I wanted each row to be an article. "
   ]
  },
  {
   "cell_type": "markdown",
   "metadata": {},
   "source": [
    "If this dataframe contained all the items that you were looking for, it would be easy to save this to a csv file for storage and later analysis."
   ]
  },
  {
   "cell_type": "code",
   "execution_count": 13,
   "metadata": {
    "collapsed": true
   },
   "outputs": [],
   "source": [
    "df.to_csv('lynching_articles.csv')"
   ]
  },
  {
   "cell_type": "code",
   "execution_count": null,
   "metadata": {
    "collapsed": false
   },
   "outputs": [],
   "source": []
  },
  {
   "cell_type": "markdown",
   "metadata": {},
   "source": [
    "Most of the APIs of interest to social scientists weren't designed for our use. They are primarily for web or mobile app developers who want to include the content on their pages. So while I might use the [MapQuest](http://developer.mapquest.com) API to look at how often intra-city trips involve highways, the target audience is business owners trying to help people get to their store. Similarly, scores of researchers have used data from [Twitter APIs](https://dev.twitter.com/docs/api/1.1) to study politics, but it was developed so that you could put a custom Twitter widget on your home page. \n",
    "\n",
    "The good news is that since these services want you to use their data, the APIs are often well documented, especially for languages like Python that are popular in Silicon Valley. The bad news is that APIs don't always make available the parts of the service, like historical data, that are of most interest to researchers. The worst news is research using APIs frequently violates the providers Terms of Service, so it can be an ethical grey zone. \n",
    "\n",
    "When you sign up as a developer to use an API, you usually agree to only use the API to facilitate other people using the service (e.g. customer's finding their way to your store) and that you won't store the data. API providers usually enforce this through rate limiting, meaning you can only access the service so many times per minute or per day. For example, you can only search status updates 180 times every 15 minutes according to [Twitter guidelines](https://dev.twitter.com/docs/rate-limiting/1.1/limits). [Yelp](http://www.yelp.com/developers/documentation/faq) limits you to 10,000 calls per day. If you go over your limit, you won't be able to access the service for a bit. You will also get in trouble if you redistribute the data, so don't plan on doing that. "
   ]
  },
  {
   "cell_type": "markdown",
   "metadata": {},
   "source": [
    "Two of the major reasons that web services require API authentication is so that they know who you are and so they can make sure that you don't go over their rate limits. Since you shouldn't be giving your password to random people on the internet, API authentication works a little bit differently. Like many other places, in order to use the Yelp API you have to sign up as [developer](http://www.yelp.com/developers). After telling them a little bit about what you plan to do--feel free to be honest; they aren't going to deny you access if you put \"research on food cultures\" as the purpose--you will get a Consumer Key, Consumer Secret, Token, and Token Secret. Copy and paste them somewhere special. \n",
    "\n",
    "Using the Yelp API goes something like this. First, you tell Yelp who you are and what you want. Assuming you are authorized to have this information, they respond with a URL where you can retrieve the data. The coding for this in practice is a little bit complicated, so there are often single use tools for accessing APIs, like [Tweepy](http://tweepy.github.io) for Twitter. \n",
    "\n",
    "There's no module to install for the Yelp API, but Yelp does provide some [sample Python code](https://github.com/Yelp/yelp-api/tree/master/v2/python). I've slightly modified the code below to show a sample search for restaurants near Chapel Hill, NC, sorted by distance. You can find more options in the search [documentation](http://www.yelp.com/developers/documentation/v2/search_api). The API's search options include things like location and type of business, and allows you to sort either by distance or popularity."
   ]
  },
  {
   "cell_type": "code",
   "execution_count": null,
   "metadata": {
    "collapsed": true
   },
   "outputs": [],
   "source": []
  }
 ],
 "metadata": {
  "anaconda-cloud": {},
  "kernelspec": {
   "display_name": "Python [default]",
   "language": "python",
   "name": "python2"
  },
  "language_info": {
   "codemirror_mode": {
    "name": "ipython",
    "version": 2
   },
   "file_extension": ".py",
   "mimetype": "text/x-python",
   "name": "python",
   "nbconvert_exporter": "python",
   "pygments_lexer": "ipython2",
   "version": "2.7.12"
  }
 },
 "nbformat": 4,
 "nbformat_minor": 1
}
