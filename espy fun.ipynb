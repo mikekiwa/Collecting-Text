{
 "cells": [
  {
   "cell_type": "code",
   "execution_count": 50,
   "metadata": {
    "collapsed": true
   },
   "outputs": [],
   "source": [
    "import requests\n",
    "import re\n",
    "import json\n",
    "import pandas as pd\n",
    "from pandas.io.json import json_normalize"
   ]
  },
  {
   "cell_type": "code",
   "execution_count": 79,
   "metadata": {
    "collapsed": true
   },
   "outputs": [],
   "source": [
    "url = 'http://www.espn.com/nfl/game?gameId=400874491'"
   ]
  },
  {
   "cell_type": "code",
   "execution_count": 80,
   "metadata": {
    "collapsed": true
   },
   "outputs": [],
   "source": [
    "text = requests.get(url).text"
   ]
  },
  {
   "cell_type": "code",
   "execution_count": 81,
   "metadata": {
    "collapsed": false
   },
   "outputs": [],
   "source": [
    "wp = re.findall(\"espn\\.gamepackage\\.probability\\.data = (.*\\]);\", text)[0]"
   ]
  },
  {
   "cell_type": "code",
   "execution_count": 82,
   "metadata": {
    "collapsed": false
   },
   "outputs": [],
   "source": [
    "wp = json.loads(wp)"
   ]
  },
  {
   "cell_type": "code",
   "execution_count": 83,
   "metadata": {
    "collapsed": true
   },
   "outputs": [],
   "source": [
    "df = json_normalize(wp)"
   ]
  },
  {
   "cell_type": "code",
   "execution_count": 84,
   "metadata": {
    "collapsed": false
   },
   "outputs": [],
   "source": [
    "df['delta_homeWinPercentage']  = df['homeWinPercentage'].diff()"
   ]
  },
  {
   "cell_type": "code",
   "execution_count": 85,
   "metadata": {
    "collapsed": false
   },
   "outputs": [
    {
     "data": {
      "text/html": [
       "<div>\n",
       "<table border=\"1\" class=\"dataframe\">\n",
       "  <thead>\n",
       "    <tr style=\"text-align: right;\">\n",
       "      <th></th>\n",
       "      <th>homeWinPercentage</th>\n",
       "      <th>play.awayScore</th>\n",
       "      <th>play.homeScore</th>\n",
       "      <th>play.period.number</th>\n",
       "      <th>play.start.distance</th>\n",
       "      <th>play.start.down</th>\n",
       "      <th>play.start.yardLine</th>\n",
       "      <th>play.start.yardsToEndzone</th>\n",
       "      <th>tiePercentage</th>\n",
       "      <th>delta_homeWinPercentage</th>\n",
       "    </tr>\n",
       "    <tr>\n",
       "      <th>play.start.team.id</th>\n",
       "      <th></th>\n",
       "      <th></th>\n",
       "      <th></th>\n",
       "      <th></th>\n",
       "      <th></th>\n",
       "      <th></th>\n",
       "      <th></th>\n",
       "      <th></th>\n",
       "      <th></th>\n",
       "      <th></th>\n",
       "    </tr>\n",
       "  </thead>\n",
       "  <tbody>\n",
       "    <tr>\n",
       "      <th>12</th>\n",
       "      <td>0.842274</td>\n",
       "      <td>10.452055</td>\n",
       "      <td>17.287671</td>\n",
       "      <td>2.616438</td>\n",
       "      <td>8.027397</td>\n",
       "      <td>1.835616</td>\n",
       "      <td>41.356164</td>\n",
       "      <td>58.643836</td>\n",
       "      <td>0.0</td>\n",
       "      <td>0.004479</td>\n",
       "    </tr>\n",
       "    <tr>\n",
       "      <th>18</th>\n",
       "      <td>0.826769</td>\n",
       "      <td>9.230769</td>\n",
       "      <td>17.615385</td>\n",
       "      <td>2.571429</td>\n",
       "      <td>8.032967</td>\n",
       "      <td>1.802198</td>\n",
       "      <td>52.571429</td>\n",
       "      <td>52.571429</td>\n",
       "      <td>0.0</td>\n",
       "      <td>-0.000078</td>\n",
       "    </tr>\n",
       "  </tbody>\n",
       "</table>\n",
       "</div>"
      ],
      "text/plain": [
       "                    homeWinPercentage  play.awayScore  play.homeScore  \\\n",
       "play.start.team.id                                                      \n",
       "12                           0.842274       10.452055       17.287671   \n",
       "18                           0.826769        9.230769       17.615385   \n",
       "\n",
       "                    play.period.number  play.start.distance  play.start.down  \\\n",
       "play.start.team.id                                                             \n",
       "12                            2.616438             8.027397         1.835616   \n",
       "18                            2.571429             8.032967         1.802198   \n",
       "\n",
       "                    play.start.yardLine  play.start.yardsToEndzone  \\\n",
       "play.start.team.id                                                   \n",
       "12                            41.356164                  58.643836   \n",
       "18                            52.571429                  52.571429   \n",
       "\n",
       "                    tiePercentage  delta_homeWinPercentage  \n",
       "play.start.team.id                                          \n",
       "12                            0.0                 0.004479  \n",
       "18                            0.0                -0.000078  "
      ]
     },
     "execution_count": 85,
     "metadata": {},
     "output_type": "execute_result"
    }
   ],
   "source": [
    "df.groupby(['play.start.team.id']).mean()"
   ]
  },
  {
   "cell_type": "code",
   "execution_count": 93,
   "metadata": {
    "collapsed": false
   },
   "outputs": [
    {
     "data": {
      "text/plain": [
       "Pass Reception                   49\n",
       "Rush                             49\n",
       "Pass Incompletion                17\n",
       "Penalty                          11\n",
       "Kickoff                          10\n",
       "Punt                              8\n",
       "Timeout                           7\n",
       "Passing Touchdown                 5\n",
       "Field Goal Good                   2\n",
       "Two-minute warning                2\n",
       "End Period                        2\n",
       "Fumble Recovery (Opponent)        1\n",
       "Sack                              1\n",
       "Fumble Recovery (Own)             1\n",
       "End of Half                       1\n",
       "Interception Return Touchdown     1\n",
       "End of Game                       1\n",
       "Name: play.type.text, dtype: int64"
      ]
     },
     "execution_count": 93,
     "metadata": {},
     "output_type": "execute_result"
    }
   ],
   "source": [
    "df['play.type.text'].value_counts()"
   ]
  },
  {
   "cell_type": "code",
   "execution_count": null,
   "metadata": {
    "collapsed": true
   },
   "outputs": [],
   "source": []
  }
 ],
 "metadata": {
  "kernelspec": {
   "display_name": "Python [conda root]",
   "language": "python",
   "name": "conda-root-py"
  },
  "language_info": {
   "codemirror_mode": {
    "name": "ipython",
    "version": 2
   },
   "file_extension": ".py",
   "mimetype": "text/x-python",
   "name": "python",
   "nbconvert_exporter": "python",
   "pygments_lexer": "ipython2",
   "version": "2.7.12"
  }
 },
 "nbformat": 4,
 "nbformat_minor": 1
}
